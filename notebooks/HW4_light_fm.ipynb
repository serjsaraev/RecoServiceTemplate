{
 "cells": [
  {
   "cell_type": "code",
   "execution_count": 1,
   "metadata": {},
   "outputs": [],
   "source": [
    "import os"
   ]
  },
  {
   "cell_type": "code",
   "execution_count": 2,
   "metadata": {},
   "outputs": [],
   "source": [
    "os.environ[\"OPENBLAS_NUM_THREADS\"] = \"1\"  # For implicit ALS"
   ]
  },
  {
   "cell_type": "code",
   "execution_count": 3,
   "metadata": {},
   "outputs": [],
   "source": [
    "import warnings\n",
    "warnings.filterwarnings('ignore')"
   ]
  },
  {
   "cell_type": "code",
   "execution_count": 27,
   "metadata": {
    "collapsed": false,
    "pycharm": {
     "name": "#%%\n"
    }
   },
   "outputs": [],
   "source": [
    "from random import randint\n",
    "\n",
    "import pandas as pd\n",
    "import numpy as np\n",
    "\n",
    "from rectools.metrics import Precision, Recall, MAP, calc_metrics\n",
    "from rectools.models import ImplicitALSWrapperModel, LightFMWrapperModel\n",
    "from rectools import Columns\n",
    "from rectools.dataset import Dataset\n",
    "from implicit.als import AlternatingLeastSquares\n",
    "\n",
    "from pathlib import Path\n",
    "\n",
    "from lightfm import LightFM"
   ]
  },
  {
   "cell_type": "code",
   "execution_count": 5,
   "metadata": {
    "collapsed": false,
    "pycharm": {
     "name": "#%%\n"
    }
   },
   "outputs": [],
   "source": [
    "DATA_PATH = Path(\"..\", \"data\", \"kion_train\")"
   ]
  },
  {
   "cell_type": "code",
   "execution_count": null,
   "metadata": {
    "collapsed": false,
    "pycharm": {
     "name": "#%%\n"
    }
   },
   "outputs": [],
   "source": [
    "!mkdir ../data\n",
    "!wget https://storage.yandexcloud.net/itmo-recsys-public-data/kion_train.zip -O ../data/data_original.zip\n",
    "!unzip ../data/data_original.zip -d ../data\n",
    "!rm -rf ../data/data_original.zip ../data/__MACOSX"
   ]
  },
  {
   "cell_type": "markdown",
   "metadata": {
    "collapsed": false,
    "pycharm": {
     "name": "#%% md\n"
    }
   },
   "source": [
    "# LOAD DATA"
   ]
  },
  {
   "cell_type": "code",
   "execution_count": 6,
   "metadata": {
    "collapsed": false,
    "pycharm": {
     "name": "#%%\n"
    }
   },
   "outputs": [],
   "source": [
    "users = pd.read_csv(DATA_PATH / 'users.csv')\n",
    "items = pd.read_csv(DATA_PATH / 'items.csv')\n",
    "interactions = pd.read_csv(DATA_PATH / 'interactions.csv')"
   ]
  },
  {
   "cell_type": "code",
   "execution_count": 7,
   "metadata": {
    "collapsed": false,
    "pycharm": {
     "name": "#%%\n"
    }
   },
   "outputs": [],
   "source": [
    "YEAR_FROM = 1990\n",
    "STEP_SIZE = 5\n",
    "bins = [year for year in range(YEAR_FROM, int(items['release_year'].max()) + STEP_SIZE, STEP_SIZE)]\n",
    "\n",
    "bins = [int(items['release_year'].min())] + bins\n",
    "\n",
    "items['year_bin'] = pd.cut(items['release_year'],\n",
    "                           bins=bins, include_lowest=True)"
   ]
  },
  {
   "cell_type": "code",
   "execution_count": 8,
   "metadata": {
    "collapsed": false,
    "pycharm": {
     "name": "#%%\n"
    }
   },
   "outputs": [],
   "source": [
    "Columns.Datetime = 'last_watch_dt'"
   ]
  },
  {
   "cell_type": "code",
   "execution_count": 9,
   "metadata": {
    "collapsed": false,
    "pycharm": {
     "name": "#%%\n"
    }
   },
   "outputs": [],
   "source": [
    "interactions.drop(interactions[interactions[Columns.Datetime].str.len() != 10].index, inplace=True)"
   ]
  },
  {
   "cell_type": "markdown",
   "metadata": {
    "collapsed": false,
    "pycharm": {
     "name": "#%% md\n"
    }
   },
   "source": [
    "# Train/Test split"
   ]
  },
  {
   "cell_type": "code",
   "execution_count": 10,
   "metadata": {
    "collapsed": false,
    "pycharm": {
     "name": "#%%\n"
    }
   },
   "outputs": [],
   "source": [
    "interactions[Columns.Datetime] = pd.to_datetime(interactions[Columns.Datetime], format='%Y-%m-%d')"
   ]
  },
  {
   "cell_type": "code",
   "execution_count": 11,
   "metadata": {
    "collapsed": false,
    "pycharm": {
     "name": "#%%\n"
    }
   },
   "outputs": [],
   "source": [
    "max_date = interactions[Columns.Datetime].max()"
   ]
  },
  {
   "cell_type": "code",
   "execution_count": 12,
   "metadata": {
    "collapsed": false,
    "pycharm": {
     "name": "#%%\n"
    }
   },
   "outputs": [],
   "source": [
    "interactions[Columns.Weight] = np.where(interactions['watched_pct'] > 10, 3, 1)"
   ]
  },
  {
   "cell_type": "code",
   "execution_count": 13,
   "metadata": {
    "collapsed": false,
    "pycharm": {
     "name": "#%%\n"
    }
   },
   "outputs": [
    {
     "name": "stdout",
     "output_type": "stream",
     "text": [
      "train: (4985269, 6)\n",
      "test: (490982, 6)\n"
     ]
    }
   ],
   "source": [
    "train = interactions[interactions[Columns.Datetime] < max_date - pd.Timedelta(days=7)].copy()\n",
    "test = interactions[interactions[Columns.Datetime] >= max_date - pd.Timedelta(days=7)].copy()\n",
    "\n",
    "print(f\"train: {train.shape}\")\n",
    "print(f\"test: {test.shape}\")"
   ]
  },
  {
   "cell_type": "code",
   "execution_count": 14,
   "metadata": {
    "collapsed": false,
    "pycharm": {
     "name": "#%%\n"
    }
   },
   "outputs": [],
   "source": [
    "train.drop(train.query(\"total_dur < 300\").index, inplace=True)"
   ]
  },
  {
   "cell_type": "code",
   "execution_count": 15,
   "metadata": {
    "collapsed": false,
    "pycharm": {
     "name": "#%%\n"
    }
   },
   "outputs": [],
   "source": [
    "# отфильтруем холодных пользователей из теста\n",
    "cold_users = set(test[Columns.User]) - set(train[Columns.User])"
   ]
  },
  {
   "cell_type": "code",
   "execution_count": 16,
   "metadata": {
    "collapsed": false,
    "pycharm": {
     "name": "#%%\n"
    }
   },
   "outputs": [],
   "source": [
    "test.drop(test[test[Columns.User].isin(cold_users)].index, inplace=True)"
   ]
  },
  {
   "cell_type": "markdown",
   "metadata": {
    "collapsed": false,
    "pycharm": {
     "name": "#%% md\n"
    }
   },
   "source": [
    "# Добавляем аватаров в обучающую выборку\n",
    "\n",
    "1. Фанат фильмов с Киану Ривзом, смотрит фильмы и рекламу, только с его участием!\n",
    "2. Человек-Патриот, смотрит фильмы только made in Russia. Считает что раньше было лучше!\n",
    "3. Девочка, смотрит только мультфильмы про принцесс и ждёт своего принца на белом коне."
   ]
  },
  {
   "cell_type": "code",
   "execution_count": 17,
   "metadata": {
    "collapsed": false,
    "pycharm": {
     "name": "#%%\n"
    }
   },
   "outputs": [],
   "source": [
    "kianu_fanboy = items[(items.actors.isna() == False) & (items.actors.str.contains('Киану Ривз'))][:10]\n",
    "patriot = items[(items.countries.isna() == False) & (items.countries.str.contains('Россия|СССР'))][:10]\n",
    "princesses = items[(items.age_rating <= 12) & (items.keywords.str.contains('принцесса|королева', case=False))][:30]\n",
    "\n",
    "new_items = [kianu_fanboy, patriot, princesses]"
   ]
  },
  {
   "cell_type": "code",
   "execution_count": 18,
   "metadata": {
    "collapsed": false,
    "pycharm": {
     "name": "#%%\n"
    }
   },
   "outputs": [],
   "source": [
    "max_user_id = train.user_id.max()\n",
    "avatar_ids = list()\n",
    "\n",
    "for user_items in new_items:\n",
    "    max_user_id += 1\n",
    "    for item_id in user_items.item_id:\n",
    "        last_watch_dt = f'2022-{str(randint(1,12)).zfill(2)}-{str(randint(1,28)).zfill(2)}'\n",
    "        if max_user_id not in avatar_ids:\n",
    "            avatar_ids.append(max_user_id)\n",
    "        train = train.append({\n",
    "            'user_id': max_user_id,\n",
    "            'item_id': item_id,\n",
    "            'last_watch_dt': last_watch_dt,\n",
    "            'watched_pct': randint(70, 100),\n",
    "            'weight': 3\n",
    "        }, ignore_index=True)"
   ]
  },
  {
   "cell_type": "code",
   "execution_count": 19,
   "metadata": {
    "collapsed": false,
    "pycharm": {
     "name": "#%%\n"
    }
   },
   "outputs": [],
   "source": [
    "avatar_map = pd.DataFrame({\"user_id\": avatar_ids, \"name\": ['kianu', 'patriot', 'pricesses']})"
   ]
  },
  {
   "cell_type": "markdown",
   "metadata": {
    "collapsed": false,
    "pycharm": {
     "name": "#%% md\n"
    }
   },
   "source": [
    "# Обучение моделей"
   ]
  },
  {
   "cell_type": "code",
   "execution_count": 20,
   "metadata": {
    "collapsed": false,
    "pycharm": {
     "name": "#%%\n"
    }
   },
   "outputs": [],
   "source": [
    "K_RECS = 10\n",
    "RANDOM_STATE = 1234\n",
    "NUM_THREADS = 6"
   ]
  },
  {
   "cell_type": "code",
   "execution_count": 21,
   "metadata": {
    "collapsed": false,
    "pycharm": {
     "name": "#%%\n"
    }
   },
   "outputs": [],
   "source": [
    "dataset = Dataset.construct(\n",
    "    interactions_df=train\n",
    ")"
   ]
  },
  {
   "cell_type": "markdown",
   "metadata": {
    "collapsed": false,
    "pycharm": {
     "name": "#%% md\n"
    }
   },
   "source": [
    "## Подбор гиперпараметров"
   ]
  },
  {
   "cell_type": "code",
   "execution_count": 22,
   "metadata": {
    "collapsed": false,
    "pycharm": {
     "name": "#%%\n"
    }
   },
   "outputs": [],
   "source": [
    "models = {}"
   ]
  },
  {
   "cell_type": "code",
   "execution_count": 30,
   "metadata": {},
   "outputs": [],
   "source": [
    "def get_model(model_name, params, n_factors, epochs):\n",
    "    if model_name == 'light_fm':\n",
    "        model = LightFMWrapperModel(\n",
    "            LightFM(\n",
    "                no_components=n_factors,\n",
    "                random_state=RANDOM_STATE,\n",
    "                **params\n",
    "            ),\n",
    "            epochs=epochs,\n",
    "            num_threads=NUM_THREADS,\n",
    "        )\n",
    "    elif model_name == 'implicit_als':\n",
    "        model = ImplicitALSWrapperModel(\n",
    "            model=AlternatingLeastSquares(\n",
    "                factors=n_factors,\n",
    "                random_state=RANDOM_STATE, \n",
    "                num_threads=NUM_THREADS,\n",
    "            ),\n",
    "            **params\n",
    "        )\n",
    "    return model"
   ]
  },
  {
   "cell_type": "code",
   "execution_count": 32,
   "metadata": {
    "collapsed": false,
    "pycharm": {
     "name": "#%%\n"
    }
   },
   "outputs": [
    {
     "name": "stdout",
     "output_type": "stream",
     "text": [
      "100%|██████████| 6/6 [08:05<00:00, 80.90s/trial, best loss: -0.07812375857324984] \n"
     ]
    }
   ],
   "source": [
    "from hyperopt import fmin, tpe, hp, STATUS_OK, Trials\n",
    "\n",
    "\n",
    "models_data = [\n",
    "    {'name': 'light_fm', 'params': {'loss': 'logistic'}},\n",
    "    {'name': 'light_fm', 'params': {'loss': 'warp'}},\n",
    "    {'name': 'implicit_als', 'params': {'fit_features_together': True}},\n",
    "]\n",
    "n_factors_var = list(N for N in [4,8,12])\n",
    "\n",
    "fspace = {\n",
    "    'model_data': hp.choice('model_data', models_data),\n",
    "    'n_factors': hp.choice('n_factors', n_factors_var)\n",
    "}\n",
    "def train_and_eval(params):\n",
    "    model_data = params['model_data']\n",
    "    n_factors = params['n_factors']\n",
    "    model = get_model(model_data['name'], model_data['params'], n_factors, 10)\n",
    "    metrics = {f'MAP@{K_RECS}': MAP(k=K_RECS)}\n",
    "\n",
    "    model.fit(dataset)\n",
    "    recos = model.recommend(\n",
    "        users=test[Columns.User].unique(),\n",
    "        dataset=dataset,\n",
    "        k=K_RECS,\n",
    "        filter_viewed=True,\n",
    "    )\n",
    "    metric_values = calc_metrics(metrics, recos, test, train)\n",
    "    suffix = '__'.join([f'{k}_{v}' for k, v in model_data[\"params\"].items()])\n",
    "    models[f'{model_data[\"name\"]}__{suffix}__n_{n_factors}'] = model\n",
    "\n",
    "    return {'loss': -metric_values[f'MAP@{K_RECS}'], 'status': STATUS_OK}\n",
    "\n",
    "\n",
    "trials = Trials()\n",
    "\n",
    "best = fmin(fn=train_and_eval, space=fspace, algo=tpe.suggest, max_evals=6, trials=trials)"
   ]
  },
  {
   "cell_type": "code",
   "execution_count": 33,
   "metadata": {},
   "outputs": [
    {
     "name": "stdout",
     "output_type": "stream",
     "text": [
      "light_fm__loss_warp__n_8\n"
     ]
    }
   ],
   "source": [
    "model_data = models_data[best['model_data']]\n",
    "suffix = '__'.join([f'{k}_{v}' for k, v in model_data[\"params\"].items()])\n",
    "model_key = f'{model_data[\"name\"]}__{suffix}__n_{n_factors_var[best[\"n_factors\"]]}'\n",
    "print(model_key)"
   ]
  },
  {
   "cell_type": "code",
   "execution_count": 35,
   "metadata": {},
   "outputs": [],
   "source": [
    "metrics_name = {\n",
    "    'Precision': Precision,\n",
    "    'Recall': Recall,\n",
    "    'MAP': MAP,\n",
    "}\n",
    "\n",
    "metrics = {}\n",
    "for metric_name, metric in metrics_name.items():\n",
    "    for k in [1, 5, 10]:\n",
    "        metrics[f'{metric_name}@{k}'] = metric(k=k)"
   ]
  },
  {
   "cell_type": "code",
   "execution_count": 36,
   "metadata": {},
   "outputs": [
    {
     "data": {
      "text/plain": [
       "{'Precision@1': 0.08252122113350505,\n",
       " 'Recall@1': 0.04162495491071055,\n",
       " 'Precision@5': 0.05147773440611805,\n",
       " 'Recall@5': 0.12171727366166285,\n",
       " 'Precision@10': 0.035410747320251026,\n",
       " 'Recall@10': 0.1610629953279049,\n",
       " 'MAP@1': 0.04162495491071055,\n",
       " 'MAP@5': 0.07185633960397003,\n",
       " 'MAP@10': 0.07812375857324984}"
      ]
     },
     "execution_count": 36,
     "metadata": {},
     "output_type": "execute_result"
    }
   ],
   "source": [
    "recos = models[model_key].recommend(\n",
    "    users=test[Columns.User].unique(),\n",
    "    dataset=dataset,\n",
    "    k=K_RECS,\n",
    "    filter_viewed=True,\n",
    ")\n",
    "calc_metrics(metrics, recos, test, train)"
   ]
  },
  {
   "cell_type": "markdown",
   "metadata": {},
   "source": [
    "# Оценка моделей на аватарах"
   ]
  },
  {
   "cell_type": "code",
   "execution_count": null,
   "metadata": {},
   "outputs": [],
   "source": [
    "recoms = models[model_key].recommend(\n",
    "    users=avatar_ids,\n",
    "    dataset=dataset,\n",
    "    k=K_RECS,\n",
    "    filter_viewed=True,\n",
    ")\n",
    "recoms = pd.merge(recoms, items, on='item_id')\n",
    "recoms = pd.merge(recoms, avatar_map, on='user_id')[['name', 'countries', 'title', 'genres', 'age_rating', 'actors', 'keywords']]\n"
   ]
  },
  {
   "cell_type": "markdown",
   "metadata": {},
   "source": [
    "## Фанат Киану Ривза\n",
    "Модель плохо справилась, в плане предсказания фильмов с данным актёром, однако в целом попадает в в жанры, в которых он снимался"
   ]
  },
  {
   "cell_type": "code",
   "execution_count": null,
   "metadata": {},
   "outputs": [
    {
     "data": {
      "text/html": [
       "<div>\n",
       "<style scoped>\n",
       "    .dataframe tbody tr th:only-of-type {\n",
       "        vertical-align: middle;\n",
       "    }\n",
       "\n",
       "    .dataframe tbody tr th {\n",
       "        vertical-align: top;\n",
       "    }\n",
       "\n",
       "    .dataframe thead th {\n",
       "        text-align: right;\n",
       "    }\n",
       "</style>\n",
       "<table border=\"1\" class=\"dataframe\">\n",
       "  <thead>\n",
       "    <tr style=\"text-align: right;\">\n",
       "      <th></th>\n",
       "      <th>name</th>\n",
       "      <th>countries</th>\n",
       "      <th>title</th>\n",
       "      <th>genres</th>\n",
       "      <th>age_rating</th>\n",
       "      <th>actors</th>\n",
       "      <th>keywords</th>\n",
       "    </tr>\n",
       "  </thead>\n",
       "  <tbody>\n",
       "    <tr>\n",
       "      <th>0</th>\n",
       "      <td>kianu</td>\n",
       "      <td>Великобритания, США</td>\n",
       "      <td>Гнев человеческий</td>\n",
       "      <td>боевики, триллеры</td>\n",
       "      <td>18.0</td>\n",
       "      <td>Джейсон Стэйтем, Холт МакКэллани, Джеффри Доно...</td>\n",
       "      <td>ограбление, криминальный авторитет, месть, пер...</td>\n",
       "    </tr>\n",
       "    <tr>\n",
       "      <th>1</th>\n",
       "      <td>kianu</td>\n",
       "      <td>Россия</td>\n",
       "      <td>Хрустальный</td>\n",
       "      <td>триллеры, детективы</td>\n",
       "      <td>18.0</td>\n",
       "      <td>Антон Васильев, Николай Шрайбер, Екатерина Оль...</td>\n",
       "      <td>хруст, хрусталь, хруста, хрус, полицейский, пе...</td>\n",
       "    </tr>\n",
       "    <tr>\n",
       "      <th>2</th>\n",
       "      <td>kianu</td>\n",
       "      <td>Россия</td>\n",
       "      <td>Девятаев</td>\n",
       "      <td>драмы, военные, приключения</td>\n",
       "      <td>12.0</td>\n",
       "      <td>Павел Прилучный, Павел Чинарёв, Тимофей Трибун...</td>\n",
       "      <td>Девятаев, Девятаева, Девят, Девя, Девята, Девя...</td>\n",
       "    </tr>\n",
       "    <tr>\n",
       "      <th>3</th>\n",
       "      <td>kianu</td>\n",
       "      <td>Россия</td>\n",
       "      <td>Клиника счастья</td>\n",
       "      <td>драмы, мелодрамы</td>\n",
       "      <td>18.0</td>\n",
       "      <td>Дарья Мороз, Анатолий Белый, Данил Акутин, Мар...</td>\n",
       "      <td>Клиника счастья, Клиника, Счастье, Клиника сча...</td>\n",
       "    </tr>\n",
       "    <tr>\n",
       "      <th>4</th>\n",
       "      <td>kianu</td>\n",
       "      <td>Россия</td>\n",
       "      <td>Прабабушка легкого поведения</td>\n",
       "      <td>комедии</td>\n",
       "      <td>16.0</td>\n",
       "      <td>Александр Ревва, Глюкоза, Дмитрий Нагиев, Миха...</td>\n",
       "      <td>, 2021, россия, прабабушка, легкого, поведения</td>\n",
       "    </tr>\n",
       "    <tr>\n",
       "      <th>5</th>\n",
       "      <td>kianu</td>\n",
       "      <td>США, Франция</td>\n",
       "      <td>Ford против Ferrari</td>\n",
       "      <td>драмы</td>\n",
       "      <td>16.0</td>\n",
       "      <td>Кристиан Бэйл, Мэтт Дэймон, Катрина Балф, Трэй...</td>\n",
       "      <td>по мотивам романа или книги, биография, спорт,...</td>\n",
       "    </tr>\n",
       "    <tr>\n",
       "      <th>6</th>\n",
       "      <td>kianu</td>\n",
       "      <td>Россия</td>\n",
       "      <td>Секреты семейной жизни</td>\n",
       "      <td>комедии</td>\n",
       "      <td>18.0</td>\n",
       "      <td>Петр Скворцов, Алена Михайлова, Федор Лавров, ...</td>\n",
       "      <td>брызги крови, кровь, жестокое обращение с живо...</td>\n",
       "    </tr>\n",
       "    <tr>\n",
       "      <th>7</th>\n",
       "      <td>kianu</td>\n",
       "      <td>Австралия</td>\n",
       "      <td>2067: Петля времени</td>\n",
       "      <td>драмы, фантастика</td>\n",
       "      <td>16.0</td>\n",
       "      <td>Аарон Гленнэйн, Коди Смит-МакФи, Райан Квантен...</td>\n",
       "      <td>изменение климата, путешествие во времени, выр...</td>\n",
       "    </tr>\n",
       "    <tr>\n",
       "      <th>8</th>\n",
       "      <td>kianu</td>\n",
       "      <td>США</td>\n",
       "      <td>Веном</td>\n",
       "      <td>популярное, фантастика, триллеры, боевики, ужасы</td>\n",
       "      <td>16.0</td>\n",
       "      <td>Том Харди, Вуди Харрельсон, Уэйд Уильямс, Мише...</td>\n",
       "      <td>Сан-Франциско, Калифорния, космический корабль...</td>\n",
       "    </tr>\n",
       "    <tr>\n",
       "      <th>9</th>\n",
       "      <td>kianu</td>\n",
       "      <td>США</td>\n",
       "      <td>Мстители: Финал</td>\n",
       "      <td>боевики, драмы, фантастика</td>\n",
       "      <td>16.0</td>\n",
       "      <td>Роберт Дауни мл., Крис Эванс, Марк Руффало, Кр...</td>\n",
       "      <td>космическое путешествие, путешествие во времен...</td>\n",
       "    </tr>\n",
       "  </tbody>\n",
       "</table>\n",
       "</div>"
      ],
      "text/plain": [
       "    name            countries                         title  \\\n",
       "0  kianu  Великобритания, США             Гнев человеческий   \n",
       "1  kianu               Россия                   Хрустальный   \n",
       "2  kianu               Россия                      Девятаев   \n",
       "3  kianu               Россия               Клиника счастья   \n",
       "4  kianu               Россия  Прабабушка легкого поведения   \n",
       "5  kianu         США, Франция           Ford против Ferrari   \n",
       "6  kianu               Россия        Секреты семейной жизни   \n",
       "7  kianu            Австралия           2067: Петля времени   \n",
       "8  kianu                  США                         Веном   \n",
       "9  kianu                  США               Мстители: Финал   \n",
       "\n",
       "                                             genres  age_rating  \\\n",
       "0                                 боевики, триллеры        18.0   \n",
       "1                               триллеры, детективы        18.0   \n",
       "2                       драмы, военные, приключения        12.0   \n",
       "3                                  драмы, мелодрамы        18.0   \n",
       "4                                           комедии        16.0   \n",
       "5                                             драмы        16.0   \n",
       "6                                           комедии        18.0   \n",
       "7                                 драмы, фантастика        16.0   \n",
       "8  популярное, фантастика, триллеры, боевики, ужасы        16.0   \n",
       "9                        боевики, драмы, фантастика        16.0   \n",
       "\n",
       "                                              actors  \\\n",
       "0  Джейсон Стэйтем, Холт МакКэллани, Джеффри Доно...   \n",
       "1  Антон Васильев, Николай Шрайбер, Екатерина Оль...   \n",
       "2  Павел Прилучный, Павел Чинарёв, Тимофей Трибун...   \n",
       "3  Дарья Мороз, Анатолий Белый, Данил Акутин, Мар...   \n",
       "4  Александр Ревва, Глюкоза, Дмитрий Нагиев, Миха...   \n",
       "5  Кристиан Бэйл, Мэтт Дэймон, Катрина Балф, Трэй...   \n",
       "6  Петр Скворцов, Алена Михайлова, Федор Лавров, ...   \n",
       "7  Аарон Гленнэйн, Коди Смит-МакФи, Райан Квантен...   \n",
       "8  Том Харди, Вуди Харрельсон, Уэйд Уильямс, Мише...   \n",
       "9  Роберт Дауни мл., Крис Эванс, Марк Руффало, Кр...   \n",
       "\n",
       "                                            keywords  \n",
       "0  ограбление, криминальный авторитет, месть, пер...  \n",
       "1  хруст, хрусталь, хруста, хрус, полицейский, пе...  \n",
       "2  Девятаев, Девятаева, Девят, Девя, Девята, Девя...  \n",
       "3  Клиника счастья, Клиника, Счастье, Клиника сча...  \n",
       "4     , 2021, россия, прабабушка, легкого, поведения  \n",
       "5  по мотивам романа или книги, биография, спорт,...  \n",
       "6  брызги крови, кровь, жестокое обращение с живо...  \n",
       "7  изменение климата, путешествие во времени, выр...  \n",
       "8  Сан-Франциско, Калифорния, космический корабль...  \n",
       "9  космическое путешествие, путешествие во времен...  "
      ]
     },
     "execution_count": 266,
     "metadata": {},
     "output_type": "execute_result"
    }
   ],
   "source": [
    "recoms[:10]"
   ]
  },
  {
   "cell_type": "markdown",
   "metadata": {},
   "source": [
    "## Человек-патриот\n",
    "Все фильмы, кроме одного из России, следовательно модель справилась достаточно хорошо"
   ]
  },
  {
   "cell_type": "code",
   "execution_count": null,
   "metadata": {},
   "outputs": [
    {
     "data": {
      "text/html": [
       "<div>\n",
       "<style scoped>\n",
       "    .dataframe tbody tr th:only-of-type {\n",
       "        vertical-align: middle;\n",
       "    }\n",
       "\n",
       "    .dataframe tbody tr th {\n",
       "        vertical-align: top;\n",
       "    }\n",
       "\n",
       "    .dataframe thead th {\n",
       "        text-align: right;\n",
       "    }\n",
       "</style>\n",
       "<table border=\"1\" class=\"dataframe\">\n",
       "  <thead>\n",
       "    <tr style=\"text-align: right;\">\n",
       "      <th></th>\n",
       "      <th>name</th>\n",
       "      <th>countries</th>\n",
       "      <th>title</th>\n",
       "      <th>genres</th>\n",
       "      <th>age_rating</th>\n",
       "      <th>actors</th>\n",
       "      <th>keywords</th>\n",
       "    </tr>\n",
       "  </thead>\n",
       "  <tbody>\n",
       "    <tr>\n",
       "      <th>10</th>\n",
       "      <td>patriot</td>\n",
       "      <td>Великобритания, США</td>\n",
       "      <td>Гнев человеческий</td>\n",
       "      <td>боевики, триллеры</td>\n",
       "      <td>18.0</td>\n",
       "      <td>Джейсон Стэйтем, Холт МакКэллани, Джеффри Доно...</td>\n",
       "      <td>ограбление, криминальный авторитет, месть, пер...</td>\n",
       "    </tr>\n",
       "    <tr>\n",
       "      <th>11</th>\n",
       "      <td>patriot</td>\n",
       "      <td>Россия</td>\n",
       "      <td>Хрустальный</td>\n",
       "      <td>триллеры, детективы</td>\n",
       "      <td>18.0</td>\n",
       "      <td>Антон Васильев, Николай Шрайбер, Екатерина Оль...</td>\n",
       "      <td>хруст, хрусталь, хруста, хрус, полицейский, пе...</td>\n",
       "    </tr>\n",
       "    <tr>\n",
       "      <th>12</th>\n",
       "      <td>patriot</td>\n",
       "      <td>Россия</td>\n",
       "      <td>Девятаев</td>\n",
       "      <td>драмы, военные, приключения</td>\n",
       "      <td>12.0</td>\n",
       "      <td>Павел Прилучный, Павел Чинарёв, Тимофей Трибун...</td>\n",
       "      <td>Девятаев, Девятаева, Девят, Девя, Девята, Девя...</td>\n",
       "    </tr>\n",
       "    <tr>\n",
       "      <th>13</th>\n",
       "      <td>patriot</td>\n",
       "      <td>Россия</td>\n",
       "      <td>Клиника счастья</td>\n",
       "      <td>драмы, мелодрамы</td>\n",
       "      <td>18.0</td>\n",
       "      <td>Дарья Мороз, Анатолий Белый, Данил Акутин, Мар...</td>\n",
       "      <td>Клиника счастья, Клиника, Счастье, Клиника сча...</td>\n",
       "    </tr>\n",
       "    <tr>\n",
       "      <th>14</th>\n",
       "      <td>patriot</td>\n",
       "      <td>Россия</td>\n",
       "      <td>Прабабушка легкого поведения</td>\n",
       "      <td>комедии</td>\n",
       "      <td>16.0</td>\n",
       "      <td>Александр Ревва, Глюкоза, Дмитрий Нагиев, Миха...</td>\n",
       "      <td>, 2021, россия, прабабушка, легкого, поведения</td>\n",
       "    </tr>\n",
       "    <tr>\n",
       "      <th>15</th>\n",
       "      <td>patriot</td>\n",
       "      <td>Россия</td>\n",
       "      <td>Секреты семейной жизни</td>\n",
       "      <td>комедии</td>\n",
       "      <td>18.0</td>\n",
       "      <td>Петр Скворцов, Алена Михайлова, Федор Лавров, ...</td>\n",
       "      <td>брызги крови, кровь, жестокое обращение с живо...</td>\n",
       "    </tr>\n",
       "    <tr>\n",
       "      <th>16</th>\n",
       "      <td>patriot</td>\n",
       "      <td>Россия</td>\n",
       "      <td>Подслушано</td>\n",
       "      <td>драмы, триллеры</td>\n",
       "      <td>16.0</td>\n",
       "      <td>Александр Hовиков, Валентина Ляпина, Никита Па...</td>\n",
       "      <td>подслушано, подслушано в контакте, социальная ...</td>\n",
       "    </tr>\n",
       "    <tr>\n",
       "      <th>17</th>\n",
       "      <td>patriot</td>\n",
       "      <td>Россия</td>\n",
       "      <td>Немцы</td>\n",
       "      <td>драмы</td>\n",
       "      <td>16.0</td>\n",
       "      <td>Евгений Коряковский, Анна Завтур, Антон Василь...</td>\n",
       "      <td>немцы, немец, про немцев, по мотивам романа, п...</td>\n",
       "    </tr>\n",
       "    <tr>\n",
       "      <th>18</th>\n",
       "      <td>patriot</td>\n",
       "      <td>Россия</td>\n",
       "      <td>Афера</td>\n",
       "      <td>комедии</td>\n",
       "      <td>18.0</td>\n",
       "      <td>Сергей Степин, Игорь Царегородцев, Татьяна Лял...</td>\n",
       "      <td>Афера, Аферисты, Карантин, Пандемия, Карантин ...</td>\n",
       "    </tr>\n",
       "    <tr>\n",
       "      <th>19</th>\n",
       "      <td>patriot</td>\n",
       "      <td>Россия</td>\n",
       "      <td>Сахаров. Две жизни</td>\n",
       "      <td>документальное</td>\n",
       "      <td>16.0</td>\n",
       "      <td>Алексей Усольцев, Чулпан Хаматова, Агата Супер</td>\n",
       "      <td>Сахаров, Сахарок, Сахар, Сахар сахаров, Сахаро...</td>\n",
       "    </tr>\n",
       "  </tbody>\n",
       "</table>\n",
       "</div>"
      ],
      "text/plain": [
       "       name            countries                         title  \\\n",
       "10  patriot  Великобритания, США             Гнев человеческий   \n",
       "11  patriot               Россия                   Хрустальный   \n",
       "12  patriot               Россия                      Девятаев   \n",
       "13  patriot               Россия               Клиника счастья   \n",
       "14  patriot               Россия  Прабабушка легкого поведения   \n",
       "15  patriot               Россия        Секреты семейной жизни   \n",
       "16  patriot               Россия                    Подслушано   \n",
       "17  patriot               Россия                         Немцы   \n",
       "18  patriot               Россия                         Афера   \n",
       "19  patriot               Россия            Сахаров. Две жизни   \n",
       "\n",
       "                         genres  age_rating  \\\n",
       "10            боевики, триллеры        18.0   \n",
       "11          триллеры, детективы        18.0   \n",
       "12  драмы, военные, приключения        12.0   \n",
       "13             драмы, мелодрамы        18.0   \n",
       "14                      комедии        16.0   \n",
       "15                      комедии        18.0   \n",
       "16              драмы, триллеры        16.0   \n",
       "17                        драмы        16.0   \n",
       "18                      комедии        18.0   \n",
       "19               документальное        16.0   \n",
       "\n",
       "                                               actors  \\\n",
       "10  Джейсон Стэйтем, Холт МакКэллани, Джеффри Доно...   \n",
       "11  Антон Васильев, Николай Шрайбер, Екатерина Оль...   \n",
       "12  Павел Прилучный, Павел Чинарёв, Тимофей Трибун...   \n",
       "13  Дарья Мороз, Анатолий Белый, Данил Акутин, Мар...   \n",
       "14  Александр Ревва, Глюкоза, Дмитрий Нагиев, Миха...   \n",
       "15  Петр Скворцов, Алена Михайлова, Федор Лавров, ...   \n",
       "16  Александр Hовиков, Валентина Ляпина, Никита Па...   \n",
       "17  Евгений Коряковский, Анна Завтур, Антон Василь...   \n",
       "18  Сергей Степин, Игорь Царегородцев, Татьяна Лял...   \n",
       "19     Алексей Усольцев, Чулпан Хаматова, Агата Супер   \n",
       "\n",
       "                                             keywords  \n",
       "10  ограбление, криминальный авторитет, месть, пер...  \n",
       "11  хруст, хрусталь, хруста, хрус, полицейский, пе...  \n",
       "12  Девятаев, Девятаева, Девят, Девя, Девята, Девя...  \n",
       "13  Клиника счастья, Клиника, Счастье, Клиника сча...  \n",
       "14     , 2021, россия, прабабушка, легкого, поведения  \n",
       "15  брызги крови, кровь, жестокое обращение с живо...  \n",
       "16  подслушано, подслушано в контакте, социальная ...  \n",
       "17  немцы, немец, про немцев, по мотивам романа, п...  \n",
       "18  Афера, Аферисты, Карантин, Пандемия, Карантин ...  \n",
       "19  Сахаров, Сахарок, Сахар, Сахар сахаров, Сахаро...  "
      ]
     },
     "execution_count": 262,
     "metadata": {},
     "output_type": "execute_result"
    }
   ],
   "source": [
    "recoms[10:20]"
   ]
  },
  {
   "cell_type": "markdown",
   "metadata": {},
   "source": [
    "## Ребенок, смотрящий мультики про принцесс\n",
    "В рекомендациях только мультики для детей, так что в \"ребёнка\" попали, однако из всего списка только 1 мультфильм про принцесс."
   ]
  },
  {
   "cell_type": "code",
   "execution_count": null,
   "metadata": {},
   "outputs": [
    {
     "data": {
      "text/html": [
       "<div>\n",
       "<style scoped>\n",
       "    .dataframe tbody tr th:only-of-type {\n",
       "        vertical-align: middle;\n",
       "    }\n",
       "\n",
       "    .dataframe tbody tr th {\n",
       "        vertical-align: top;\n",
       "    }\n",
       "\n",
       "    .dataframe thead th {\n",
       "        text-align: right;\n",
       "    }\n",
       "</style>\n",
       "<table border=\"1\" class=\"dataframe\">\n",
       "  <thead>\n",
       "    <tr style=\"text-align: right;\">\n",
       "      <th></th>\n",
       "      <th>name</th>\n",
       "      <th>countries</th>\n",
       "      <th>title</th>\n",
       "      <th>genres</th>\n",
       "      <th>age_rating</th>\n",
       "      <th>actors</th>\n",
       "      <th>keywords</th>\n",
       "    </tr>\n",
       "  </thead>\n",
       "  <tbody>\n",
       "    <tr>\n",
       "      <th>20</th>\n",
       "      <td>pricesses</td>\n",
       "      <td>США</td>\n",
       "      <td>Зверополис</td>\n",
       "      <td>приключения, мультфильм, детективы, комедии</td>\n",
       "      <td>6.0</td>\n",
       "      <td>Джиннифер Гудвин, Джейсон Бейтман, Идрис Эльба...</td>\n",
       "      <td>аллегория, лев, бегемот, лиса, слон, овца, бел...</td>\n",
       "    </tr>\n",
       "    <tr>\n",
       "      <th>21</th>\n",
       "      <td>pricesses</td>\n",
       "      <td>США</td>\n",
       "      <td>Ральф против Интернета</td>\n",
       "      <td>мультфильм, приключения, фантастика, семейное,...</td>\n",
       "      <td>6.0</td>\n",
       "      <td>Джон Си Райли, Сара Силверман, Галь Гадот, Тар...</td>\n",
       "      <td>видеоигра, мультфильм, продолжение, интернет, ...</td>\n",
       "    </tr>\n",
       "    <tr>\n",
       "      <th>22</th>\n",
       "      <td>pricesses</td>\n",
       "      <td>США</td>\n",
       "      <td>Холодное сердце II</td>\n",
       "      <td>фэнтези, мультфильм, музыкальные</td>\n",
       "      <td>6.0</td>\n",
       "      <td>Идина Мензел, Кристен Белл, Джонатан Грофф, Дж...</td>\n",
       "      <td>королева, магия, королевство, плотина, дух, же...</td>\n",
       "    </tr>\n",
       "    <tr>\n",
       "      <th>23</th>\n",
       "      <td>pricesses</td>\n",
       "      <td>США</td>\n",
       "      <td>Монстры на каникулах 3: Море зовёт</td>\n",
       "      <td>мультфильм, фэнтези, приключения, комедии</td>\n",
       "      <td>6.0</td>\n",
       "      <td>Энди Сэмберг, Селена Гомес, Кевин Джеймс, Стив...</td>\n",
       "      <td>третья часть, круизное судно, персонаж Дракула...</td>\n",
       "    </tr>\n",
       "    <tr>\n",
       "      <th>24</th>\n",
       "      <td>pricesses</td>\n",
       "      <td>США</td>\n",
       "      <td>Моана</td>\n",
       "      <td>мультфильм, фэнтези, мюзиклы</td>\n",
       "      <td>6.0</td>\n",
       "      <td>Аулии Кравальо, Дуэйн Джонсон, Рэйчел Хаус, Те...</td>\n",
       "      <td>океан, парусник, море, мифология, остров, мюзи...</td>\n",
       "    </tr>\n",
       "    <tr>\n",
       "      <th>25</th>\n",
       "      <td>pricesses</td>\n",
       "      <td>Австралия, Бельгия</td>\n",
       "      <td>100% волк</td>\n",
       "      <td>мультфильм, приключения, семейное, фэнтези, ко...</td>\n",
       "      <td>6.0</td>\n",
       "      <td>Илай Суинделлс, Самара Уивинг, Джай Кортни, Ру...</td>\n",
       "      <td>пудель, подростковая тревога, оборотень, приня...</td>\n",
       "    </tr>\n",
       "    <tr>\n",
       "      <th>26</th>\n",
       "      <td>pricesses</td>\n",
       "      <td>США</td>\n",
       "      <td>Головоломка</td>\n",
       "      <td>фантастика, мультфильм, комедии</td>\n",
       "      <td>6.0</td>\n",
       "      <td>Эми Полер, Филлис Смит, Ричард Кайнд, Билл Хей...</td>\n",
       "      <td>мечта, мультфильм, воображаемый друг, начальна...</td>\n",
       "    </tr>\n",
       "    <tr>\n",
       "      <th>27</th>\n",
       "      <td>pricesses</td>\n",
       "      <td>США</td>\n",
       "      <td>Вперёд</td>\n",
       "      <td>для детей, приключения, семейное, фэнтези, ком...</td>\n",
       "      <td>6.0</td>\n",
       "      <td>Том Холланд, Крис Пратт, Джулия Луис-Дрейфус, ...</td>\n",
       "      <td>эльфы, мир фантазий, эльф, главный герой подро...</td>\n",
       "    </tr>\n",
       "    <tr>\n",
       "      <th>28</th>\n",
       "      <td>pricesses</td>\n",
       "      <td>США</td>\n",
       "      <td>История игрушек 4</td>\n",
       "      <td>мультфильм, фэнтези, комедии</td>\n",
       "      <td>6.0</td>\n",
       "      <td>Том Хэнкс, Тим Аллен, Энни Поттс, Тони Хейл, К...</td>\n",
       "      <td>игрушка, дружба, ковбой, история игрушек 4, , ...</td>\n",
       "    </tr>\n",
       "    <tr>\n",
       "      <th>29</th>\n",
       "      <td>pricesses</td>\n",
       "      <td>США</td>\n",
       "      <td>Суперсемейка 2</td>\n",
       "      <td>фантастика, мультфильм, приключения</td>\n",
       "      <td>6.0</td>\n",
       "      <td>Крэйг Т. Нельсон, Холли Хантер, Сара Вауэлл, Х...</td>\n",
       "      <td>семейная пара, продолжение, супергерой, дети, ...</td>\n",
       "    </tr>\n",
       "  </tbody>\n",
       "</table>\n",
       "</div>"
      ],
      "text/plain": [
       "         name           countries                               title  \\\n",
       "20  pricesses                 США                          Зверополис   \n",
       "21  pricesses                 США              Ральф против Интернета   \n",
       "22  pricesses                 США                  Холодное сердце II   \n",
       "23  pricesses                 США  Монстры на каникулах 3: Море зовёт   \n",
       "24  pricesses                 США                               Моана   \n",
       "25  pricesses  Австралия, Бельгия                           100% волк   \n",
       "26  pricesses                 США                         Головоломка   \n",
       "27  pricesses                 США                              Вперёд   \n",
       "28  pricesses                 США                   История игрушек 4   \n",
       "29  pricesses                 США                      Суперсемейка 2   \n",
       "\n",
       "                                               genres  age_rating  \\\n",
       "20        приключения, мультфильм, детективы, комедии         6.0   \n",
       "21  мультфильм, приключения, фантастика, семейное,...         6.0   \n",
       "22                   фэнтези, мультфильм, музыкальные         6.0   \n",
       "23          мультфильм, фэнтези, приключения, комедии         6.0   \n",
       "24                       мультфильм, фэнтези, мюзиклы         6.0   \n",
       "25  мультфильм, приключения, семейное, фэнтези, ко...         6.0   \n",
       "26                    фантастика, мультфильм, комедии         6.0   \n",
       "27  для детей, приключения, семейное, фэнтези, ком...         6.0   \n",
       "28                       мультфильм, фэнтези, комедии         6.0   \n",
       "29                фантастика, мультфильм, приключения         6.0   \n",
       "\n",
       "                                               actors  \\\n",
       "20  Джиннифер Гудвин, Джейсон Бейтман, Идрис Эльба...   \n",
       "21  Джон Си Райли, Сара Силверман, Галь Гадот, Тар...   \n",
       "22  Идина Мензел, Кристен Белл, Джонатан Грофф, Дж...   \n",
       "23  Энди Сэмберг, Селена Гомес, Кевин Джеймс, Стив...   \n",
       "24  Аулии Кравальо, Дуэйн Джонсон, Рэйчел Хаус, Те...   \n",
       "25  Илай Суинделлс, Самара Уивинг, Джай Кортни, Ру...   \n",
       "26  Эми Полер, Филлис Смит, Ричард Кайнд, Билл Хей...   \n",
       "27  Том Холланд, Крис Пратт, Джулия Луис-Дрейфус, ...   \n",
       "28  Том Хэнкс, Тим Аллен, Энни Поттс, Тони Хейл, К...   \n",
       "29  Крэйг Т. Нельсон, Холли Хантер, Сара Вауэлл, Х...   \n",
       "\n",
       "                                             keywords  \n",
       "20  аллегория, лев, бегемот, лиса, слон, овца, бел...  \n",
       "21  видеоигра, мультфильм, продолжение, интернет, ...  \n",
       "22  королева, магия, королевство, плотина, дух, же...  \n",
       "23  третья часть, круизное судно, персонаж Дракула...  \n",
       "24  океан, парусник, море, мифология, остров, мюзи...  \n",
       "25  пудель, подростковая тревога, оборотень, приня...  \n",
       "26  мечта, мультфильм, воображаемый друг, начальна...  \n",
       "27  эльфы, мир фантазий, эльф, главный герой подро...  \n",
       "28  игрушка, дружба, ковбой, история игрушек 4, , ...  \n",
       "29  семейная пара, продолжение, супергерой, дети, ...  "
      ]
     },
     "execution_count": 263,
     "metadata": {},
     "output_type": "execute_result"
    }
   ],
   "source": [
    "recoms[20:30]"
   ]
  },
  {
   "cell_type": "code",
   "execution_count": null,
   "metadata": {},
   "outputs": [],
   "source": []
  }
 ],
 "metadata": {
  "kernelspec": {
   "display_name": "Python 3.8.15 ('recsys')",
   "language": "python",
   "name": "python3"
  },
  "language_info": {
   "codemirror_mode": {
    "name": "ipython",
    "version": 3
   },
   "file_extension": ".py",
   "mimetype": "text/x-python",
   "name": "python",
   "nbconvert_exporter": "python",
   "pygments_lexer": "ipython3",
   "version": "3.8.15"
  },
  "vscode": {
   "interpreter": {
    "hash": "852d72309fcd915d879bb97ef099e5da3b2b556faafd877ee9c0f5dca92e6019"
   }
  }
 },
 "nbformat": 4,
 "nbformat_minor": 4
}
