{
 "cells": [
  {
   "cell_type": "markdown",
   "metadata": {
    "collapsed": false,
    "pycharm": {
     "name": "#%% md\n"
    }
   },
   "source": []
  },
  {
   "cell_type": "code",
   "execution_count": 5,
   "metadata": {
    "collapsed": false,
    "pycharm": {
     "name": "#%%\n"
    }
   },
   "outputs": [],
   "source": [
    "import sys\n",
    "sys.path.append('..')\n",
    "\n",
    "from random import randint\n",
    "\n",
    "from lightfm import LightFM\n",
    "import pandas as pd\n",
    "import numpy as np\n",
    "from rectools import Columns\n",
    "from rectools.dataset import Dataset\n",
    "from rectools.models import LightFMWrapperModel\n",
    "\n",
    "from service.models.ann import ApproximateNearestNeighbors"
   ]
  },
  {
   "cell_type": "markdown",
   "metadata": {
    "collapsed": false,
    "pycharm": {
     "name": "#%% md\n"
    }
   },
   "source": [
    "# LOAD DATA"
   ]
  },
  {
   "cell_type": "code",
   "execution_count": null,
   "metadata": {
    "collapsed": false,
    "pycharm": {
     "name": "#%%\n"
    }
   },
   "outputs": [],
   "source": [
    "!mkdir ../data\n",
    "!wget https://storage.yandexcloud.net/itmo-recsys-public-data/kion_train.zip -O ../data/data_original.zip\n",
    "!unzip ../data/data_original.zip -d ../data"
   ]
  },
  {
   "cell_type": "code",
   "execution_count": 6,
   "metadata": {
    "collapsed": false,
    "pycharm": {
     "name": "#%%\n"
    }
   },
   "outputs": [],
   "source": [
    "interactions = pd.read_csv('../data/kion_train/interactions.csv')\n",
    "users = pd.read_csv('../data/kion_train/users.csv')\n",
    "items = pd.read_csv('../data/kion_train/items.csv')"
   ]
  },
  {
   "cell_type": "markdown",
   "metadata": {
    "collapsed": false,
    "pycharm": {
     "name": "#%% md\n"
    }
   },
   "source": [
    "# Preprocess"
   ]
  },
  {
   "cell_type": "code",
   "execution_count": 7,
   "metadata": {
    "collapsed": false,
    "pycharm": {
     "name": "#%%\n"
    }
   },
   "outputs": [],
   "source": [
    "Columns.Datetime = 'last_watch_dt'"
   ]
  },
  {
   "cell_type": "code",
   "execution_count": 8,
   "metadata": {
    "collapsed": false,
    "pycharm": {
     "name": "#%%\n"
    }
   },
   "outputs": [],
   "source": [
    "interactions.drop(interactions[interactions[Columns.Datetime].str.len() != 10].index, inplace=True)"
   ]
  },
  {
   "cell_type": "code",
   "execution_count": 9,
   "metadata": {
    "collapsed": false,
    "pycharm": {
     "name": "#%%\n"
    }
   },
   "outputs": [],
   "source": [
    "interactions[Columns.Datetime] = pd.to_datetime(interactions[Columns.Datetime], format='%Y-%m-%d')"
   ]
  },
  {
   "cell_type": "code",
   "execution_count": 10,
   "metadata": {
    "collapsed": false,
    "pycharm": {
     "name": "#%%\n"
    }
   },
   "outputs": [],
   "source": [
    "max_date = interactions[Columns.Datetime].max()"
   ]
  },
  {
   "cell_type": "code",
   "execution_count": 11,
   "metadata": {
    "collapsed": false,
    "pycharm": {
     "name": "#%%\n"
    }
   },
   "outputs": [],
   "source": [
    "interactions[Columns.Weight] = np.where(interactions['watched_pct'] > 10, 3, 1)"
   ]
  },
  {
   "cell_type": "code",
   "execution_count": 12,
   "metadata": {
    "collapsed": false,
    "pycharm": {
     "name": "#%%\n"
    }
   },
   "outputs": [
    {
     "name": "stdout",
     "output_type": "stream",
     "text": [
      "train: (4985269, 6)\n",
      "test: (490982, 6)\n"
     ]
    }
   ],
   "source": [
    "train = interactions[interactions[Columns.Datetime] < max_date - pd.Timedelta(days=7)].copy()\n",
    "test = interactions[interactions[Columns.Datetime] >= max_date - pd.Timedelta(days=7)].copy()\n",
    "\n",
    "print(f\"train: {train.shape}\")\n",
    "print(f\"test: {test.shape}\")"
   ]
  },
  {
   "cell_type": "code",
   "execution_count": 13,
   "metadata": {
    "collapsed": false,
    "pycharm": {
     "name": "#%%\n"
    }
   },
   "outputs": [],
   "source": [
    "train.drop(train.query(\"total_dur < 300\").index, inplace=True)"
   ]
  },
  {
   "cell_type": "code",
   "execution_count": 14,
   "metadata": {
    "collapsed": false,
    "pycharm": {
     "name": "#%%\n"
    }
   },
   "outputs": [],
   "source": [
    "# отфильтруем холодных пользователей из теста\n",
    "cold_users = set(test[Columns.User]) - set(train[Columns.User])"
   ]
  },
  {
   "cell_type": "code",
   "execution_count": 15,
   "metadata": {
    "collapsed": false,
    "pycharm": {
     "name": "#%%\n"
    }
   },
   "outputs": [],
   "source": [
    "test.drop(test[test[Columns.User].isin(cold_users)].index, inplace=True)"
   ]
  },
  {
   "cell_type": "markdown",
   "metadata": {
    "collapsed": false,
    "pycharm": {
     "name": "#%% md\n"
    }
   },
   "source": [
    "# Models"
   ]
  },
  {
   "cell_type": "code",
   "execution_count": 16,
   "metadata": {
    "collapsed": false,
    "pycharm": {
     "name": "#%%\n"
    }
   },
   "outputs": [],
   "source": [
    "dataset = Dataset.construct(interactions_df=train)"
   ]
  },
  {
   "cell_type": "code",
   "execution_count": 17,
   "metadata": {
    "collapsed": false,
    "pycharm": {
     "name": "#%%\n"
    }
   },
   "outputs": [],
   "source": [
    "TEST_USERS = test[Columns.User].unique()"
   ]
  },
  {
   "cell_type": "markdown",
   "metadata": {
    "collapsed": false,
    "pycharm": {
     "name": "#%% md\n"
    }
   },
   "source": [
    "# Добавляем аватаров в обучающую выборку\n",
    "\n",
    "1. Фанат фильмов с Киану Ривзом, смотрит фильмы и рекламу, только с его участием!\n",
    "2. Человек-Патриот, смотрит фильмы только made in Russia. Считает что раньше было лучше!\n",
    "3. Девочка, смотрит только мультфильмы про принцесс и ждёт своего принца на белом коне."
   ]
  },
  {
   "cell_type": "code",
   "execution_count": 18,
   "metadata": {
    "collapsed": false,
    "pycharm": {
     "name": "#%%\n"
    }
   },
   "outputs": [],
   "source": [
    "kianu_fanboy = items[(items.actors.isna() == False) & (items.actors.str.contains('Киану Ривз'))][:10]\n",
    "patriot = items[(items.countries.isna() == False) & (items.countries.str.contains('Россия|СССР'))][:10]\n",
    "princesses = items[(items.age_rating <= 12) & (items.keywords.str.contains('принцесса|королева', case=False))][:30]\n",
    "\n",
    "new_items = [kianu_fanboy, patriot, princesses]"
   ]
  },
  {
   "cell_type": "code",
   "execution_count": 19,
   "metadata": {
    "collapsed": false,
    "pycharm": {
     "name": "#%%\n"
    }
   },
   "outputs": [
    {
     "name": "stderr",
     "output_type": "stream",
     "text": [
      "/tmp/ipykernel_761384/1073467818.py:11: FutureWarning: The frame.append method is deprecated and will be removed from pandas in a future version. Use pandas.concat instead.\n",
      "  train_2 = train_2.append({\n",
      "/tmp/ipykernel_761384/1073467818.py:11: FutureWarning: The frame.append method is deprecated and will be removed from pandas in a future version. Use pandas.concat instead.\n",
      "  train_2 = train_2.append({\n",
      "/tmp/ipykernel_761384/1073467818.py:11: FutureWarning: The frame.append method is deprecated and will be removed from pandas in a future version. Use pandas.concat instead.\n",
      "  train_2 = train_2.append({\n",
      "/tmp/ipykernel_761384/1073467818.py:11: FutureWarning: The frame.append method is deprecated and will be removed from pandas in a future version. Use pandas.concat instead.\n",
      "  train_2 = train_2.append({\n",
      "/tmp/ipykernel_761384/1073467818.py:11: FutureWarning: The frame.append method is deprecated and will be removed from pandas in a future version. Use pandas.concat instead.\n",
      "  train_2 = train_2.append({\n",
      "/tmp/ipykernel_761384/1073467818.py:11: FutureWarning: The frame.append method is deprecated and will be removed from pandas in a future version. Use pandas.concat instead.\n",
      "  train_2 = train_2.append({\n",
      "/tmp/ipykernel_761384/1073467818.py:11: FutureWarning: The frame.append method is deprecated and will be removed from pandas in a future version. Use pandas.concat instead.\n",
      "  train_2 = train_2.append({\n",
      "/tmp/ipykernel_761384/1073467818.py:11: FutureWarning: The frame.append method is deprecated and will be removed from pandas in a future version. Use pandas.concat instead.\n",
      "  train_2 = train_2.append({\n",
      "/tmp/ipykernel_761384/1073467818.py:11: FutureWarning: The frame.append method is deprecated and will be removed from pandas in a future version. Use pandas.concat instead.\n",
      "  train_2 = train_2.append({\n",
      "/tmp/ipykernel_761384/1073467818.py:11: FutureWarning: The frame.append method is deprecated and will be removed from pandas in a future version. Use pandas.concat instead.\n",
      "  train_2 = train_2.append({\n",
      "/tmp/ipykernel_761384/1073467818.py:11: FutureWarning: The frame.append method is deprecated and will be removed from pandas in a future version. Use pandas.concat instead.\n",
      "  train_2 = train_2.append({\n",
      "/tmp/ipykernel_761384/1073467818.py:11: FutureWarning: The frame.append method is deprecated and will be removed from pandas in a future version. Use pandas.concat instead.\n",
      "  train_2 = train_2.append({\n",
      "/tmp/ipykernel_761384/1073467818.py:11: FutureWarning: The frame.append method is deprecated and will be removed from pandas in a future version. Use pandas.concat instead.\n",
      "  train_2 = train_2.append({\n",
      "/tmp/ipykernel_761384/1073467818.py:11: FutureWarning: The frame.append method is deprecated and will be removed from pandas in a future version. Use pandas.concat instead.\n",
      "  train_2 = train_2.append({\n",
      "/tmp/ipykernel_761384/1073467818.py:11: FutureWarning: The frame.append method is deprecated and will be removed from pandas in a future version. Use pandas.concat instead.\n",
      "  train_2 = train_2.append({\n",
      "/tmp/ipykernel_761384/1073467818.py:11: FutureWarning: The frame.append method is deprecated and will be removed from pandas in a future version. Use pandas.concat instead.\n",
      "  train_2 = train_2.append({\n",
      "/tmp/ipykernel_761384/1073467818.py:11: FutureWarning: The frame.append method is deprecated and will be removed from pandas in a future version. Use pandas.concat instead.\n",
      "  train_2 = train_2.append({\n",
      "/tmp/ipykernel_761384/1073467818.py:11: FutureWarning: The frame.append method is deprecated and will be removed from pandas in a future version. Use pandas.concat instead.\n",
      "  train_2 = train_2.append({\n",
      "/tmp/ipykernel_761384/1073467818.py:11: FutureWarning: The frame.append method is deprecated and will be removed from pandas in a future version. Use pandas.concat instead.\n",
      "  train_2 = train_2.append({\n",
      "/tmp/ipykernel_761384/1073467818.py:11: FutureWarning: The frame.append method is deprecated and will be removed from pandas in a future version. Use pandas.concat instead.\n",
      "  train_2 = train_2.append({\n",
      "/tmp/ipykernel_761384/1073467818.py:11: FutureWarning: The frame.append method is deprecated and will be removed from pandas in a future version. Use pandas.concat instead.\n",
      "  train_2 = train_2.append({\n",
      "/tmp/ipykernel_761384/1073467818.py:11: FutureWarning: The frame.append method is deprecated and will be removed from pandas in a future version. Use pandas.concat instead.\n",
      "  train_2 = train_2.append({\n",
      "/tmp/ipykernel_761384/1073467818.py:11: FutureWarning: The frame.append method is deprecated and will be removed from pandas in a future version. Use pandas.concat instead.\n",
      "  train_2 = train_2.append({\n",
      "/tmp/ipykernel_761384/1073467818.py:11: FutureWarning: The frame.append method is deprecated and will be removed from pandas in a future version. Use pandas.concat instead.\n",
      "  train_2 = train_2.append({\n",
      "/tmp/ipykernel_761384/1073467818.py:11: FutureWarning: The frame.append method is deprecated and will be removed from pandas in a future version. Use pandas.concat instead.\n",
      "  train_2 = train_2.append({\n",
      "/tmp/ipykernel_761384/1073467818.py:11: FutureWarning: The frame.append method is deprecated and will be removed from pandas in a future version. Use pandas.concat instead.\n",
      "  train_2 = train_2.append({\n",
      "/tmp/ipykernel_761384/1073467818.py:11: FutureWarning: The frame.append method is deprecated and will be removed from pandas in a future version. Use pandas.concat instead.\n",
      "  train_2 = train_2.append({\n",
      "/tmp/ipykernel_761384/1073467818.py:11: FutureWarning: The frame.append method is deprecated and will be removed from pandas in a future version. Use pandas.concat instead.\n",
      "  train_2 = train_2.append({\n",
      "/tmp/ipykernel_761384/1073467818.py:11: FutureWarning: The frame.append method is deprecated and will be removed from pandas in a future version. Use pandas.concat instead.\n",
      "  train_2 = train_2.append({\n",
      "/tmp/ipykernel_761384/1073467818.py:11: FutureWarning: The frame.append method is deprecated and will be removed from pandas in a future version. Use pandas.concat instead.\n",
      "  train_2 = train_2.append({\n",
      "/tmp/ipykernel_761384/1073467818.py:11: FutureWarning: The frame.append method is deprecated and will be removed from pandas in a future version. Use pandas.concat instead.\n",
      "  train_2 = train_2.append({\n",
      "/tmp/ipykernel_761384/1073467818.py:11: FutureWarning: The frame.append method is deprecated and will be removed from pandas in a future version. Use pandas.concat instead.\n",
      "  train_2 = train_2.append({\n",
      "/tmp/ipykernel_761384/1073467818.py:11: FutureWarning: The frame.append method is deprecated and will be removed from pandas in a future version. Use pandas.concat instead.\n",
      "  train_2 = train_2.append({\n",
      "/tmp/ipykernel_761384/1073467818.py:11: FutureWarning: The frame.append method is deprecated and will be removed from pandas in a future version. Use pandas.concat instead.\n",
      "  train_2 = train_2.append({\n",
      "/tmp/ipykernel_761384/1073467818.py:11: FutureWarning: The frame.append method is deprecated and will be removed from pandas in a future version. Use pandas.concat instead.\n",
      "  train_2 = train_2.append({\n",
      "/tmp/ipykernel_761384/1073467818.py:11: FutureWarning: The frame.append method is deprecated and will be removed from pandas in a future version. Use pandas.concat instead.\n",
      "  train_2 = train_2.append({\n",
      "/tmp/ipykernel_761384/1073467818.py:11: FutureWarning: The frame.append method is deprecated and will be removed from pandas in a future version. Use pandas.concat instead.\n",
      "  train_2 = train_2.append({\n",
      "/tmp/ipykernel_761384/1073467818.py:11: FutureWarning: The frame.append method is deprecated and will be removed from pandas in a future version. Use pandas.concat instead.\n",
      "  train_2 = train_2.append({\n",
      "/tmp/ipykernel_761384/1073467818.py:11: FutureWarning: The frame.append method is deprecated and will be removed from pandas in a future version. Use pandas.concat instead.\n",
      "  train_2 = train_2.append({\n",
      "/tmp/ipykernel_761384/1073467818.py:11: FutureWarning: The frame.append method is deprecated and will be removed from pandas in a future version. Use pandas.concat instead.\n",
      "  train_2 = train_2.append({\n",
      "/tmp/ipykernel_761384/1073467818.py:11: FutureWarning: The frame.append method is deprecated and will be removed from pandas in a future version. Use pandas.concat instead.\n",
      "  train_2 = train_2.append({\n",
      "/tmp/ipykernel_761384/1073467818.py:11: FutureWarning: The frame.append method is deprecated and will be removed from pandas in a future version. Use pandas.concat instead.\n",
      "  train_2 = train_2.append({\n",
      "/tmp/ipykernel_761384/1073467818.py:11: FutureWarning: The frame.append method is deprecated and will be removed from pandas in a future version. Use pandas.concat instead.\n",
      "  train_2 = train_2.append({\n",
      "/tmp/ipykernel_761384/1073467818.py:11: FutureWarning: The frame.append method is deprecated and will be removed from pandas in a future version. Use pandas.concat instead.\n",
      "  train_2 = train_2.append({\n",
      "/tmp/ipykernel_761384/1073467818.py:11: FutureWarning: The frame.append method is deprecated and will be removed from pandas in a future version. Use pandas.concat instead.\n",
      "  train_2 = train_2.append({\n",
      "/tmp/ipykernel_761384/1073467818.py:11: FutureWarning: The frame.append method is deprecated and will be removed from pandas in a future version. Use pandas.concat instead.\n",
      "  train_2 = train_2.append({\n",
      "/tmp/ipykernel_761384/1073467818.py:11: FutureWarning: The frame.append method is deprecated and will be removed from pandas in a future version. Use pandas.concat instead.\n",
      "  train_2 = train_2.append({\n",
      "/tmp/ipykernel_761384/1073467818.py:11: FutureWarning: The frame.append method is deprecated and will be removed from pandas in a future version. Use pandas.concat instead.\n",
      "  train_2 = train_2.append({\n",
      "/tmp/ipykernel_761384/1073467818.py:11: FutureWarning: The frame.append method is deprecated and will be removed from pandas in a future version. Use pandas.concat instead.\n",
      "  train_2 = train_2.append({\n",
      "/tmp/ipykernel_761384/1073467818.py:11: FutureWarning: The frame.append method is deprecated and will be removed from pandas in a future version. Use pandas.concat instead.\n",
      "  train_2 = train_2.append({\n"
     ]
    }
   ],
   "source": [
    "train_2 = train.copy()\n",
    "max_user_id = train_2.user_id.max()\n",
    "avatar_ids = list()\n",
    "\n",
    "for user_items in new_items:\n",
    "    max_user_id += 1\n",
    "    for item_id in user_items.item_id:\n",
    "        last_watch_dt = f'2022-{str(randint(1,12)).zfill(2)}-{str(randint(1,28)).zfill(2)}'\n",
    "        if max_user_id not in avatar_ids:\n",
    "            avatar_ids.append(max_user_id)\n",
    "        train_2 = train_2.append({\n",
    "            'user_id': max_user_id,\n",
    "            'item_id': item_id,\n",
    "            'last_watch_dt': last_watch_dt,\n",
    "            'watched_pct': randint(70, 100),\n",
    "            'weight': 3\n",
    "        }, ignore_index=True)"
   ]
  },
  {
   "cell_type": "code",
   "execution_count": 20,
   "metadata": {
    "collapsed": false,
    "pycharm": {
     "name": "#%%\n"
    }
   },
   "outputs": [],
   "source": [
    "avatar_map = pd.DataFrame({\"user_id\": avatar_ids, \"name\": ['kianu', 'patriot', 'pricesses']})"
   ]
  },
  {
   "cell_type": "code",
   "execution_count": 21,
   "metadata": {
    "collapsed": false,
    "pycharm": {
     "name": "#%%\n"
    }
   },
   "outputs": [
    {
     "data": {
      "text/plain": [
       "[1097558, 1097559, 1097560]"
      ]
     },
     "execution_count": 21,
     "metadata": {},
     "output_type": "execute_result"
    }
   ],
   "source": [
    "avatar_ids"
   ]
  },
  {
   "cell_type": "markdown",
   "metadata": {
    "collapsed": false,
    "pycharm": {
     "name": "#%% md\n"
    }
   },
   "source": [
    "# Обучение LightFm"
   ]
  },
  {
   "cell_type": "code",
   "execution_count": 38,
   "metadata": {
    "collapsed": false,
    "pycharm": {
     "name": "#%%\n"
    }
   },
   "outputs": [
    {
     "name": "stderr",
     "output_type": "stream",
     "text": [
      "/home/justyell/anaconda3/envs/recsys/lib/python3.8/site-packages/rectools/dataset/interactions.py:62: FutureWarning: Inferring datetime64[ns] from data containing strings is deprecated and will be removed in a future version. To retain the old behavior explicitly pass Series(data, dtype=datetime64[ns])\n",
      "  df[Columns.Datetime] = df[Columns.Datetime].astype(\"datetime64[ns]\")\n"
     ]
    }
   ],
   "source": [
    "dataset_2 = Dataset.construct(interactions_df=train_2)"
   ]
  },
  {
   "cell_type": "code",
   "execution_count": 39,
   "metadata": {
    "collapsed": false,
    "pycharm": {
     "name": "#%%\n"
    }
   },
   "outputs": [
    {
     "data": {
      "text/plain": [
       "<rectools.models.lightfm.LightFMWrapperModel at 0x7fde977dd9d0>"
      ]
     },
     "execution_count": 39,
     "metadata": {},
     "output_type": "execute_result"
    }
   ],
   "source": [
    "model = LightFMWrapperModel(\n",
    "        LightFM(\n",
    "            no_components=12,\n",
    "            loss='warp',\n",
    "            random_state=1234,\n",
    "        ),\n",
    "        epochs=10,\n",
    "        num_threads=4,\n",
    "    )\n",
    "\n",
    "model.fit(dataset_2)"
   ]
  },
  {
   "cell_type": "code",
   "execution_count": 51,
   "metadata": {
    "collapsed": false,
    "pycharm": {
     "name": "#%%\n"
    }
   },
   "outputs": [],
   "source": [
    "recoms = model.recommend(\n",
    "    users=avatar_ids,\n",
    "    dataset=dataset_2,\n",
    "    k=10,\n",
    "    filter_viewed=True,\n",
    ")\n",
    "recoms = pd.merge(recoms, items, on='item_id')\n",
    "recoms = pd.merge(recoms, avatar_map, on='user_id')[['name', 'countries', 'title', 'genres', 'age_rating', 'actors', 'keywords']]\n"
   ]
  },
  {
   "cell_type": "markdown",
   "metadata": {
    "collapsed": false,
    "pycharm": {
     "name": "#%% md\n"
    }
   },
   "source": [
    "# Approximate Nearest Neighbors"
   ]
  },
  {
   "cell_type": "code",
   "execution_count": 52,
   "metadata": {
    "collapsed": false,
    "pycharm": {
     "name": "#%%\n"
    }
   },
   "outputs": [],
   "source": [
    "ann = ApproximateNearestNeighbors(model=model, dataset=dataset_2)\n",
    "ann.fit(k_reco=10)"
   ]
  },
  {
   "cell_type": "markdown",
   "metadata": {
    "collapsed": false,
    "pycharm": {
     "name": "#%% md\n"
    }
   },
   "source": [
    "## Фанат Киану Ривза\n",
    "Модель плохо справилась, в плане предсказания фильмов с данным актёром, однако в целом попадает в в жанры, в которых он снимался"
   ]
  },
  {
   "cell_type": "code",
   "execution_count": 53,
   "metadata": {
    "collapsed": false,
    "pycharm": {
     "name": "#%%\n"
    }
   },
   "outputs": [],
   "source": [
    "lightfm_recs_kianu = recoms[:10]\n",
    "ann_recs_kianu = items[items.item_id.isin(ann.predict(user_id=avatar_ids[0]))]"
   ]
  },
  {
   "cell_type": "code",
   "execution_count": 54,
   "metadata": {
    "collapsed": false,
    "pycharm": {
     "name": "#%%\n"
    }
   },
   "outputs": [],
   "source": [
    "assert set(lightfm_recs_kianu.title) == set(ann_recs_kianu.title)"
   ]
  },
  {
   "cell_type": "code",
   "execution_count": 55,
   "metadata": {
    "collapsed": false,
    "pycharm": {
     "name": "#%%\n"
    }
   },
   "outputs": [
    {
     "data": {
      "text/html": [
       "<div>\n",
       "<style scoped>\n",
       "    .dataframe tbody tr th:only-of-type {\n",
       "        vertical-align: middle;\n",
       "    }\n",
       "\n",
       "    .dataframe tbody tr th {\n",
       "        vertical-align: top;\n",
       "    }\n",
       "\n",
       "    .dataframe thead th {\n",
       "        text-align: right;\n",
       "    }\n",
       "</style>\n",
       "<table border=\"1\" class=\"dataframe\">\n",
       "  <thead>\n",
       "    <tr style=\"text-align: right;\">\n",
       "      <th></th>\n",
       "      <th>name</th>\n",
       "      <th>countries</th>\n",
       "      <th>title</th>\n",
       "      <th>genres</th>\n",
       "      <th>age_rating</th>\n",
       "      <th>actors</th>\n",
       "      <th>keywords</th>\n",
       "    </tr>\n",
       "  </thead>\n",
       "  <tbody>\n",
       "    <tr>\n",
       "      <th>0</th>\n",
       "      <td>kianu</td>\n",
       "      <td>Россия</td>\n",
       "      <td>Хрустальный</td>\n",
       "      <td>триллеры, детективы</td>\n",
       "      <td>18.0</td>\n",
       "      <td>Антон Васильев, Николай Шрайбер, Екатерина Оль...</td>\n",
       "      <td>хруст, хрусталь, хруста, хрус, полицейский, пе...</td>\n",
       "    </tr>\n",
       "    <tr>\n",
       "      <th>1</th>\n",
       "      <td>kianu</td>\n",
       "      <td>Великобритания, США</td>\n",
       "      <td>Гнев человеческий</td>\n",
       "      <td>боевики, триллеры</td>\n",
       "      <td>18.0</td>\n",
       "      <td>Джейсон Стэйтем, Холт МакКэллани, Джеффри Доно...</td>\n",
       "      <td>ограбление, криминальный авторитет, месть, пер...</td>\n",
       "    </tr>\n",
       "    <tr>\n",
       "      <th>2</th>\n",
       "      <td>kianu</td>\n",
       "      <td>Россия</td>\n",
       "      <td>Девятаев</td>\n",
       "      <td>драмы, военные, приключения</td>\n",
       "      <td>12.0</td>\n",
       "      <td>Павел Прилучный, Павел Чинарёв, Тимофей Трибун...</td>\n",
       "      <td>Девятаев, Девятаева, Девят, Девя, Девята, Девя...</td>\n",
       "    </tr>\n",
       "    <tr>\n",
       "      <th>3</th>\n",
       "      <td>kianu</td>\n",
       "      <td>Россия</td>\n",
       "      <td>Клиника счастья</td>\n",
       "      <td>драмы, мелодрамы</td>\n",
       "      <td>18.0</td>\n",
       "      <td>Дарья Мороз, Анатолий Белый, Данил Акутин, Мар...</td>\n",
       "      <td>Клиника счастья, Клиника, Счастье, Клиника сча...</td>\n",
       "    </tr>\n",
       "    <tr>\n",
       "      <th>4</th>\n",
       "      <td>kianu</td>\n",
       "      <td>США</td>\n",
       "      <td>Мстители: Финал</td>\n",
       "      <td>боевики, драмы, фантастика</td>\n",
       "      <td>16.0</td>\n",
       "      <td>Роберт Дауни мл., Крис Эванс, Марк Руффало, Кр...</td>\n",
       "      <td>космическое путешествие, путешествие во времен...</td>\n",
       "    </tr>\n",
       "    <tr>\n",
       "      <th>5</th>\n",
       "      <td>kianu</td>\n",
       "      <td>Россия</td>\n",
       "      <td>Секреты семейной жизни</td>\n",
       "      <td>комедии</td>\n",
       "      <td>18.0</td>\n",
       "      <td>Петр Скворцов, Алена Михайлова, Федор Лавров, ...</td>\n",
       "      <td>брызги крови, кровь, жестокое обращение с живо...</td>\n",
       "    </tr>\n",
       "    <tr>\n",
       "      <th>6</th>\n",
       "      <td>kianu</td>\n",
       "      <td>Россия</td>\n",
       "      <td>Прабабушка легкого поведения</td>\n",
       "      <td>комедии</td>\n",
       "      <td>16.0</td>\n",
       "      <td>Александр Ревва, Глюкоза, Дмитрий Нагиев, Миха...</td>\n",
       "      <td>, 2021, россия, прабабушка, легкого, поведения</td>\n",
       "    </tr>\n",
       "    <tr>\n",
       "      <th>7</th>\n",
       "      <td>kianu</td>\n",
       "      <td>Великобритания</td>\n",
       "      <td>Аферистка</td>\n",
       "      <td>триллеры, комедии</td>\n",
       "      <td>18.0</td>\n",
       "      <td>Розамунд Пайк, Питер Динклэйдж, Эйса Гонсалес,...</td>\n",
       "      <td>опекун, аферист, чёрная комедия, мошенник, 202...</td>\n",
       "    </tr>\n",
       "    <tr>\n",
       "      <th>8</th>\n",
       "      <td>kianu</td>\n",
       "      <td>Россия</td>\n",
       "      <td>Маша</td>\n",
       "      <td>драмы, триллеры</td>\n",
       "      <td>16.0</td>\n",
       "      <td>Максим Суханов, Аня Чиповская, Полина Гухман, ...</td>\n",
       "      <td>Фильм Маша, Маша фильм 2021, Смотреть фильм Ма...</td>\n",
       "    </tr>\n",
       "    <tr>\n",
       "      <th>9</th>\n",
       "      <td>kianu</td>\n",
       "      <td>США</td>\n",
       "      <td>Мстители: Война бесконечности</td>\n",
       "      <td>боевики, фантастика, приключения</td>\n",
       "      <td>16.0</td>\n",
       "      <td>Роберт Дауни мл., Крис Хемсворт, Марк Руффало,...</td>\n",
       "      <td>магия, жертва, супергерой, основанный на комик...</td>\n",
       "    </tr>\n",
       "  </tbody>\n",
       "</table>\n",
       "</div>"
      ],
      "text/plain": [
       "    name            countries                          title  \\\n",
       "0  kianu               Россия                    Хрустальный   \n",
       "1  kianu  Великобритания, США              Гнев человеческий   \n",
       "2  kianu               Россия                       Девятаев   \n",
       "3  kianu               Россия                Клиника счастья   \n",
       "4  kianu                  США                Мстители: Финал   \n",
       "5  kianu               Россия         Секреты семейной жизни   \n",
       "6  kianu               Россия   Прабабушка легкого поведения   \n",
       "7  kianu       Великобритания                      Аферистка   \n",
       "8  kianu               Россия                           Маша   \n",
       "9  kianu                  США  Мстители: Война бесконечности   \n",
       "\n",
       "                             genres  age_rating  \\\n",
       "0               триллеры, детективы        18.0   \n",
       "1                 боевики, триллеры        18.0   \n",
       "2       драмы, военные, приключения        12.0   \n",
       "3                  драмы, мелодрамы        18.0   \n",
       "4        боевики, драмы, фантастика        16.0   \n",
       "5                           комедии        18.0   \n",
       "6                           комедии        16.0   \n",
       "7                 триллеры, комедии        18.0   \n",
       "8                   драмы, триллеры        16.0   \n",
       "9  боевики, фантастика, приключения        16.0   \n",
       "\n",
       "                                              actors  \\\n",
       "0  Антон Васильев, Николай Шрайбер, Екатерина Оль...   \n",
       "1  Джейсон Стэйтем, Холт МакКэллани, Джеффри Доно...   \n",
       "2  Павел Прилучный, Павел Чинарёв, Тимофей Трибун...   \n",
       "3  Дарья Мороз, Анатолий Белый, Данил Акутин, Мар...   \n",
       "4  Роберт Дауни мл., Крис Эванс, Марк Руффало, Кр...   \n",
       "5  Петр Скворцов, Алена Михайлова, Федор Лавров, ...   \n",
       "6  Александр Ревва, Глюкоза, Дмитрий Нагиев, Миха...   \n",
       "7  Розамунд Пайк, Питер Динклэйдж, Эйса Гонсалес,...   \n",
       "8  Максим Суханов, Аня Чиповская, Полина Гухман, ...   \n",
       "9  Роберт Дауни мл., Крис Хемсворт, Марк Руффало,...   \n",
       "\n",
       "                                            keywords  \n",
       "0  хруст, хрусталь, хруста, хрус, полицейский, пе...  \n",
       "1  ограбление, криминальный авторитет, месть, пер...  \n",
       "2  Девятаев, Девятаева, Девят, Девя, Девята, Девя...  \n",
       "3  Клиника счастья, Клиника, Счастье, Клиника сча...  \n",
       "4  космическое путешествие, путешествие во времен...  \n",
       "5  брызги крови, кровь, жестокое обращение с живо...  \n",
       "6     , 2021, россия, прабабушка, легкого, поведения  \n",
       "7  опекун, аферист, чёрная комедия, мошенник, 202...  \n",
       "8  Фильм Маша, Маша фильм 2021, Смотреть фильм Ма...  \n",
       "9  магия, жертва, супергерой, основанный на комик...  "
      ]
     },
     "execution_count": 55,
     "metadata": {},
     "output_type": "execute_result"
    }
   ],
   "source": [
    "lightfm_recs_kianu"
   ]
  },
  {
   "cell_type": "markdown",
   "metadata": {
    "collapsed": false,
    "pycharm": {
     "name": "#%% md\n"
    }
   },
   "source": [
    "## Человек-патриот\n",
    "В рекомендациях 3/10 фильмов не из россии, не идеально, но приемлимо"
   ]
  },
  {
   "cell_type": "code",
   "execution_count": 56,
   "metadata": {
    "collapsed": false,
    "pycharm": {
     "name": "#%%\n"
    }
   },
   "outputs": [],
   "source": [
    "lightfm_recs_patr = recoms[10:20]\n",
    "ann_recs_patr = items[items.item_id.isin(ann.predict(user_id=avatar_ids[1]))]"
   ]
  },
  {
   "cell_type": "code",
   "execution_count": 57,
   "metadata": {
    "collapsed": false,
    "pycharm": {
     "name": "#%%\n"
    }
   },
   "outputs": [],
   "source": [
    "assert set(lightfm_recs_patr.title) == set(ann_recs_patr.title)"
   ]
  },
  {
   "cell_type": "code",
   "execution_count": 58,
   "metadata": {
    "collapsed": false,
    "pycharm": {
     "name": "#%%\n"
    }
   },
   "outputs": [
    {
     "data": {
      "text/html": [
       "<div>\n",
       "<style scoped>\n",
       "    .dataframe tbody tr th:only-of-type {\n",
       "        vertical-align: middle;\n",
       "    }\n",
       "\n",
       "    .dataframe tbody tr th {\n",
       "        vertical-align: top;\n",
       "    }\n",
       "\n",
       "    .dataframe thead th {\n",
       "        text-align: right;\n",
       "    }\n",
       "</style>\n",
       "<table border=\"1\" class=\"dataframe\">\n",
       "  <thead>\n",
       "    <tr style=\"text-align: right;\">\n",
       "      <th></th>\n",
       "      <th>name</th>\n",
       "      <th>countries</th>\n",
       "      <th>title</th>\n",
       "      <th>genres</th>\n",
       "      <th>age_rating</th>\n",
       "      <th>actors</th>\n",
       "      <th>keywords</th>\n",
       "    </tr>\n",
       "  </thead>\n",
       "  <tbody>\n",
       "    <tr>\n",
       "      <th>10</th>\n",
       "      <td>patriot</td>\n",
       "      <td>Россия</td>\n",
       "      <td>Хрустальный</td>\n",
       "      <td>триллеры, детективы</td>\n",
       "      <td>18.0</td>\n",
       "      <td>Антон Васильев, Николай Шрайбер, Екатерина Оль...</td>\n",
       "      <td>хруст, хрусталь, хруста, хрус, полицейский, пе...</td>\n",
       "    </tr>\n",
       "    <tr>\n",
       "      <th>11</th>\n",
       "      <td>patriot</td>\n",
       "      <td>Великобритания, США</td>\n",
       "      <td>Гнев человеческий</td>\n",
       "      <td>боевики, триллеры</td>\n",
       "      <td>18.0</td>\n",
       "      <td>Джейсон Стэйтем, Холт МакКэллани, Джеффри Доно...</td>\n",
       "      <td>ограбление, криминальный авторитет, месть, пер...</td>\n",
       "    </tr>\n",
       "    <tr>\n",
       "      <th>12</th>\n",
       "      <td>patriot</td>\n",
       "      <td>Россия</td>\n",
       "      <td>Девятаев</td>\n",
       "      <td>драмы, военные, приключения</td>\n",
       "      <td>12.0</td>\n",
       "      <td>Павел Прилучный, Павел Чинарёв, Тимофей Трибун...</td>\n",
       "      <td>Девятаев, Девятаева, Девят, Девя, Девята, Девя...</td>\n",
       "    </tr>\n",
       "    <tr>\n",
       "      <th>13</th>\n",
       "      <td>patriot</td>\n",
       "      <td>Россия</td>\n",
       "      <td>Клиника счастья</td>\n",
       "      <td>драмы, мелодрамы</td>\n",
       "      <td>18.0</td>\n",
       "      <td>Дарья Мороз, Анатолий Белый, Данил Акутин, Мар...</td>\n",
       "      <td>Клиника счастья, Клиника, Счастье, Клиника сча...</td>\n",
       "    </tr>\n",
       "    <tr>\n",
       "      <th>14</th>\n",
       "      <td>patriot</td>\n",
       "      <td>Россия</td>\n",
       "      <td>Секреты семейной жизни</td>\n",
       "      <td>комедии</td>\n",
       "      <td>18.0</td>\n",
       "      <td>Петр Скворцов, Алена Михайлова, Федор Лавров, ...</td>\n",
       "      <td>брызги крови, кровь, жестокое обращение с живо...</td>\n",
       "    </tr>\n",
       "    <tr>\n",
       "      <th>15</th>\n",
       "      <td>patriot</td>\n",
       "      <td>Россия</td>\n",
       "      <td>Прабабушка легкого поведения</td>\n",
       "      <td>комедии</td>\n",
       "      <td>16.0</td>\n",
       "      <td>Александр Ревва, Глюкоза, Дмитрий Нагиев, Миха...</td>\n",
       "      <td>, 2021, россия, прабабушка, легкого, поведения</td>\n",
       "    </tr>\n",
       "    <tr>\n",
       "      <th>16</th>\n",
       "      <td>patriot</td>\n",
       "      <td>Россия</td>\n",
       "      <td>Подслушано</td>\n",
       "      <td>драмы, триллеры</td>\n",
       "      <td>16.0</td>\n",
       "      <td>Александр Hовиков, Валентина Ляпина, Никита Па...</td>\n",
       "      <td>подслушано, подслушано в контакте, социальная ...</td>\n",
       "    </tr>\n",
       "    <tr>\n",
       "      <th>17</th>\n",
       "      <td>patriot</td>\n",
       "      <td>Россия</td>\n",
       "      <td>Афера</td>\n",
       "      <td>комедии</td>\n",
       "      <td>18.0</td>\n",
       "      <td>Сергей Степин, Игорь Царегородцев, Татьяна Лял...</td>\n",
       "      <td>Афера, Аферисты, Карантин, Пандемия, Карантин ...</td>\n",
       "    </tr>\n",
       "    <tr>\n",
       "      <th>18</th>\n",
       "      <td>patriot</td>\n",
       "      <td>Австралия</td>\n",
       "      <td>2067: Петля времени</td>\n",
       "      <td>драмы, фантастика</td>\n",
       "      <td>16.0</td>\n",
       "      <td>Аарон Гленнэйн, Коди Смит-МакФи, Райан Квантен...</td>\n",
       "      <td>изменение климата, путешествие во времени, выр...</td>\n",
       "    </tr>\n",
       "    <tr>\n",
       "      <th>19</th>\n",
       "      <td>patriot</td>\n",
       "      <td>Китай</td>\n",
       "      <td>Восемь сотен</td>\n",
       "      <td>боевики, драмы, историческое, военные</td>\n",
       "      <td>18.0</td>\n",
       "      <td>Ван Цяньюань, Цзян У, Хуан Чжичжун, Чжан Цзюнъ...</td>\n",
       "      <td>осада, китайско-японская война, 2020, китай, в...</td>\n",
       "    </tr>\n",
       "  </tbody>\n",
       "</table>\n",
       "</div>"
      ],
      "text/plain": [
       "       name            countries                         title  \\\n",
       "10  patriot               Россия                   Хрустальный   \n",
       "11  patriot  Великобритания, США             Гнев человеческий   \n",
       "12  patriot               Россия                      Девятаев   \n",
       "13  patriot               Россия               Клиника счастья   \n",
       "14  patriot               Россия        Секреты семейной жизни   \n",
       "15  patriot               Россия  Прабабушка легкого поведения   \n",
       "16  patriot               Россия                    Подслушано   \n",
       "17  patriot               Россия                         Афера   \n",
       "18  patriot            Австралия           2067: Петля времени   \n",
       "19  patriot                Китай                  Восемь сотен   \n",
       "\n",
       "                                   genres  age_rating  \\\n",
       "10                    триллеры, детективы        18.0   \n",
       "11                      боевики, триллеры        18.0   \n",
       "12            драмы, военные, приключения        12.0   \n",
       "13                       драмы, мелодрамы        18.0   \n",
       "14                                комедии        18.0   \n",
       "15                                комедии        16.0   \n",
       "16                        драмы, триллеры        16.0   \n",
       "17                                комедии        18.0   \n",
       "18                      драмы, фантастика        16.0   \n",
       "19  боевики, драмы, историческое, военные        18.0   \n",
       "\n",
       "                                               actors  \\\n",
       "10  Антон Васильев, Николай Шрайбер, Екатерина Оль...   \n",
       "11  Джейсон Стэйтем, Холт МакКэллани, Джеффри Доно...   \n",
       "12  Павел Прилучный, Павел Чинарёв, Тимофей Трибун...   \n",
       "13  Дарья Мороз, Анатолий Белый, Данил Акутин, Мар...   \n",
       "14  Петр Скворцов, Алена Михайлова, Федор Лавров, ...   \n",
       "15  Александр Ревва, Глюкоза, Дмитрий Нагиев, Миха...   \n",
       "16  Александр Hовиков, Валентина Ляпина, Никита Па...   \n",
       "17  Сергей Степин, Игорь Царегородцев, Татьяна Лял...   \n",
       "18  Аарон Гленнэйн, Коди Смит-МакФи, Райан Квантен...   \n",
       "19  Ван Цяньюань, Цзян У, Хуан Чжичжун, Чжан Цзюнъ...   \n",
       "\n",
       "                                             keywords  \n",
       "10  хруст, хрусталь, хруста, хрус, полицейский, пе...  \n",
       "11  ограбление, криминальный авторитет, месть, пер...  \n",
       "12  Девятаев, Девятаева, Девят, Девя, Девята, Девя...  \n",
       "13  Клиника счастья, Клиника, Счастье, Клиника сча...  \n",
       "14  брызги крови, кровь, жестокое обращение с живо...  \n",
       "15     , 2021, россия, прабабушка, легкого, поведения  \n",
       "16  подслушано, подслушано в контакте, социальная ...  \n",
       "17  Афера, Аферисты, Карантин, Пандемия, Карантин ...  \n",
       "18  изменение климата, путешествие во времени, выр...  \n",
       "19  осада, китайско-японская война, 2020, китай, в...  "
      ]
     },
     "execution_count": 58,
     "metadata": {},
     "output_type": "execute_result"
    }
   ],
   "source": [
    "lightfm_recs_patr"
   ]
  },
  {
   "cell_type": "markdown",
   "metadata": {
    "collapsed": false,
    "pycharm": {
     "name": "#%% md\n"
    }
   },
   "source": [
    "## Ребенок, смотрящий мультики про принцесс\n",
    "В рекомендациях только мультики для детей, так что в \"ребёнка\" попали, однако из всего списка только 1 мультфильм про принцесс."
   ]
  },
  {
   "cell_type": "code",
   "execution_count": 59,
   "metadata": {
    "collapsed": false,
    "pycharm": {
     "name": "#%%\n"
    }
   },
   "outputs": [],
   "source": [
    "lightfm_recs_child = recoms[20:30]\n",
    "ann_recs_child = items[items.item_id.isin(ann.predict(user_id=avatar_ids[2]))]"
   ]
  },
  {
   "cell_type": "code",
   "execution_count": 60,
   "metadata": {
    "collapsed": false,
    "pycharm": {
     "name": "#%%\n"
    }
   },
   "outputs": [],
   "source": [
    "assert set(lightfm_recs_child.title) == set(ann_recs_child.title)"
   ]
  },
  {
   "cell_type": "code",
   "execution_count": 61,
   "metadata": {
    "collapsed": false,
    "pycharm": {
     "name": "#%%\n"
    }
   },
   "outputs": [
    {
     "data": {
      "text/html": [
       "<div>\n",
       "<style scoped>\n",
       "    .dataframe tbody tr th:only-of-type {\n",
       "        vertical-align: middle;\n",
       "    }\n",
       "\n",
       "    .dataframe tbody tr th {\n",
       "        vertical-align: top;\n",
       "    }\n",
       "\n",
       "    .dataframe thead th {\n",
       "        text-align: right;\n",
       "    }\n",
       "</style>\n",
       "<table border=\"1\" class=\"dataframe\">\n",
       "  <thead>\n",
       "    <tr style=\"text-align: right;\">\n",
       "      <th></th>\n",
       "      <th>item_id</th>\n",
       "      <th>content_type</th>\n",
       "      <th>title</th>\n",
       "      <th>title_orig</th>\n",
       "      <th>release_year</th>\n",
       "      <th>genres</th>\n",
       "      <th>countries</th>\n",
       "      <th>for_kids</th>\n",
       "      <th>age_rating</th>\n",
       "      <th>studios</th>\n",
       "      <th>directors</th>\n",
       "      <th>actors</th>\n",
       "      <th>description</th>\n",
       "      <th>keywords</th>\n",
       "    </tr>\n",
       "  </thead>\n",
       "  <tbody>\n",
       "    <tr>\n",
       "      <th>158</th>\n",
       "      <td>13915</td>\n",
       "      <td>film</td>\n",
       "      <td>Вперёд</td>\n",
       "      <td>Onward</td>\n",
       "      <td>2020.0</td>\n",
       "      <td>для детей, приключения, семейное, фэнтези, ком...</td>\n",
       "      <td>США</td>\n",
       "      <td>NaN</td>\n",
       "      <td>6.0</td>\n",
       "      <td>NaN</td>\n",
       "      <td>Дэн Скэнлон</td>\n",
       "      <td>Том Холланд, Крис Пратт, Джулия Луис-Дрейфус, ...</td>\n",
       "      <td>Когда-то давно в сказочном мире царила магия, ...</td>\n",
       "      <td>эльфы, мир фантазий, эльф, главный герой подро...</td>\n",
       "    </tr>\n",
       "    <tr>\n",
       "      <th>1554</th>\n",
       "      <td>16270</td>\n",
       "      <td>film</td>\n",
       "      <td>Тайна Коко</td>\n",
       "      <td>Coco</td>\n",
       "      <td>2017.0</td>\n",
       "      <td>мультфильм, фэнтези, приключения</td>\n",
       "      <td>США</td>\n",
       "      <td>NaN</td>\n",
       "      <td>12.0</td>\n",
       "      <td>NaN</td>\n",
       "      <td>Ли Анкрич, Эдриан Молина</td>\n",
       "      <td>Энтони Гонсалес, Гаэль Гарсиа Берналь, Бенджам...</td>\n",
       "      <td>Мексиканский юноша Мигель живёт в семье сапожн...</td>\n",
       "      <td>Мексика, гитара, музыкант, скелет, музыка, заг...</td>\n",
       "    </tr>\n",
       "    <tr>\n",
       "      <th>3951</th>\n",
       "      <td>3182</td>\n",
       "      <td>film</td>\n",
       "      <td>Ральф против Интернета</td>\n",
       "      <td>Ralph Breaks the Internet</td>\n",
       "      <td>2018.0</td>\n",
       "      <td>мультфильм, приключения, фантастика, семейное,...</td>\n",
       "      <td>США</td>\n",
       "      <td>NaN</td>\n",
       "      <td>6.0</td>\n",
       "      <td>NaN</td>\n",
       "      <td>Рич Мур, Фил Джонстон</td>\n",
       "      <td>Джон Си Райли, Сара Силверман, Галь Гадот, Тар...</td>\n",
       "      <td>На этот раз Ральф и Ванилопа фон Кекс выйдут з...</td>\n",
       "      <td>видеоигра, мультфильм, продолжение, интернет, ...</td>\n",
       "    </tr>\n",
       "    <tr>\n",
       "      <th>5712</th>\n",
       "      <td>11985</td>\n",
       "      <td>film</td>\n",
       "      <td>История игрушек 4</td>\n",
       "      <td>Toy Story 4</td>\n",
       "      <td>2019.0</td>\n",
       "      <td>мультфильм, фэнтези, комедии</td>\n",
       "      <td>США</td>\n",
       "      <td>NaN</td>\n",
       "      <td>6.0</td>\n",
       "      <td>NaN</td>\n",
       "      <td>Джош Кули</td>\n",
       "      <td>Том Хэнкс, Тим Аллен, Энни Поттс, Тони Хейл, К...</td>\n",
       "      <td>Космический рейнджер Баз Лайтер, ковбой Вуди, ...</td>\n",
       "      <td>игрушка, дружба, ковбой, история игрушек 4, , ...</td>\n",
       "    </tr>\n",
       "    <tr>\n",
       "      <th>9698</th>\n",
       "      <td>16166</td>\n",
       "      <td>film</td>\n",
       "      <td>Зверополис</td>\n",
       "      <td>Zootopia</td>\n",
       "      <td>2016.0</td>\n",
       "      <td>приключения, мультфильм, детективы, комедии</td>\n",
       "      <td>США</td>\n",
       "      <td>NaN</td>\n",
       "      <td>6.0</td>\n",
       "      <td>NaN</td>\n",
       "      <td>Байрон Ховард, Рич Мур, Джаред Буш</td>\n",
       "      <td>Джиннифер Гудвин, Джейсон Бейтман, Идрис Эльба...</td>\n",
       "      <td>Добро пожаловать в Зверополис — современный го...</td>\n",
       "      <td>аллегория, лев, бегемот, лиса, слон, овца, бел...</td>\n",
       "    </tr>\n",
       "    <tr>\n",
       "      <th>9921</th>\n",
       "      <td>10761</td>\n",
       "      <td>film</td>\n",
       "      <td>Моана</td>\n",
       "      <td>Moana</td>\n",
       "      <td>2016.0</td>\n",
       "      <td>мультфильм, фэнтези, мюзиклы</td>\n",
       "      <td>США</td>\n",
       "      <td>NaN</td>\n",
       "      <td>6.0</td>\n",
       "      <td>NaN</td>\n",
       "      <td>Рон Клементс, Джон Маскер, Дон Холл</td>\n",
       "      <td>Аулии Кравальо, Дуэйн Джонсон, Рэйчел Хаус, Те...</td>\n",
       "      <td>Бесстрашная Моана, дочь вождя маленького племе...</td>\n",
       "      <td>океан, парусник, море, мифология, остров, мюзи...</td>\n",
       "    </tr>\n",
       "    <tr>\n",
       "      <th>9922</th>\n",
       "      <td>5023</td>\n",
       "      <td>film</td>\n",
       "      <td>101 далматинец</td>\n",
       "      <td>101 Dalmatians</td>\n",
       "      <td>1996.0</td>\n",
       "      <td>семейное, для детей</td>\n",
       "      <td>США, Великобритания</td>\n",
       "      <td>NaN</td>\n",
       "      <td>6.0</td>\n",
       "      <td>NaN</td>\n",
       "      <td>Стивен Херек</td>\n",
       "      <td>Гленн Клоуз, Джефф Дэниелс, Джоэли Ричардсон, ...</td>\n",
       "      <td>Эта забавная история произошла в Англии на Рож...</td>\n",
       "      <td>лондон, англия, мех, модельер, щенок, шуба, по...</td>\n",
       "    </tr>\n",
       "    <tr>\n",
       "      <th>12620</th>\n",
       "      <td>13243</td>\n",
       "      <td>film</td>\n",
       "      <td>Головоломка</td>\n",
       "      <td>Inside Out</td>\n",
       "      <td>2015.0</td>\n",
       "      <td>фантастика, мультфильм, комедии</td>\n",
       "      <td>США</td>\n",
       "      <td>NaN</td>\n",
       "      <td>6.0</td>\n",
       "      <td>NaN</td>\n",
       "      <td>Пит Доктер, Роналдо Дель Кармен</td>\n",
       "      <td>Эми Полер, Филлис Смит, Ричард Кайнд, Билл Хей...</td>\n",
       "      <td>11-летняя девочка Райли переезжает с семьёй из...</td>\n",
       "      <td>мечта, мультфильм, воображаемый друг, начальна...</td>\n",
       "    </tr>\n",
       "    <tr>\n",
       "      <th>14435</th>\n",
       "      <td>10876</td>\n",
       "      <td>film</td>\n",
       "      <td>Гарфилд</td>\n",
       "      <td>Garfield</td>\n",
       "      <td>2004.0</td>\n",
       "      <td>мультфильм, фэнтези, комедии</td>\n",
       "      <td>США</td>\n",
       "      <td>NaN</td>\n",
       "      <td>0.0</td>\n",
       "      <td>NaN</td>\n",
       "      <td>Питер Хьюит</td>\n",
       "      <td>Брекин Мейер, Дженнифер Лав Хьюитт, Стивен Тоб...</td>\n",
       "      <td>Хозяин кота Гарфилда, Джон, приносит в дом мил...</td>\n",
       "      <td>конкуренция, кошка, талисман, лазанья, домашни...</td>\n",
       "    </tr>\n",
       "    <tr>\n",
       "      <th>15352</th>\n",
       "      <td>7582</td>\n",
       "      <td>film</td>\n",
       "      <td>Холодное сердце II</td>\n",
       "      <td>Frozen II</td>\n",
       "      <td>2019.0</td>\n",
       "      <td>фэнтези, мультфильм, музыкальные</td>\n",
       "      <td>США</td>\n",
       "      <td>NaN</td>\n",
       "      <td>6.0</td>\n",
       "      <td>NaN</td>\n",
       "      <td>Крис Бак, Дженнифер Ли</td>\n",
       "      <td>Идина Мензел, Кристен Белл, Джонатан Грофф, Дж...</td>\n",
       "      <td>Анна, Эльза, Кристоф, его верный олень Свен и ...</td>\n",
       "      <td>королева, магия, королевство, плотина, дух, же...</td>\n",
       "    </tr>\n",
       "  </tbody>\n",
       "</table>\n",
       "</div>"
      ],
      "text/plain": [
       "       item_id content_type                   title  \\\n",
       "158      13915         film                  Вперёд   \n",
       "1554     16270         film              Тайна Коко   \n",
       "3951      3182         film  Ральф против Интернета   \n",
       "5712     11985         film       История игрушек 4   \n",
       "9698     16166         film              Зверополис   \n",
       "9921     10761         film                   Моана   \n",
       "9922      5023         film          101 далматинец   \n",
       "12620    13243         film             Головоломка   \n",
       "14435    10876         film                 Гарфилд   \n",
       "15352     7582         film      Холодное сердце II   \n",
       "\n",
       "                      title_orig  release_year  \\\n",
       "158                       Onward        2020.0   \n",
       "1554                        Coco        2017.0   \n",
       "3951   Ralph Breaks the Internet        2018.0   \n",
       "5712                 Toy Story 4        2019.0   \n",
       "9698                    Zootopia        2016.0   \n",
       "9921                       Moana        2016.0   \n",
       "9922              101 Dalmatians        1996.0   \n",
       "12620                 Inside Out        2015.0   \n",
       "14435                   Garfield        2004.0   \n",
       "15352                  Frozen II        2019.0   \n",
       "\n",
       "                                                  genres            countries  \\\n",
       "158    для детей, приключения, семейное, фэнтези, ком...                  США   \n",
       "1554                    мультфильм, фэнтези, приключения                  США   \n",
       "3951   мультфильм, приключения, фантастика, семейное,...                  США   \n",
       "5712                        мультфильм, фэнтези, комедии                  США   \n",
       "9698         приключения, мультфильм, детективы, комедии                  США   \n",
       "9921                        мультфильм, фэнтези, мюзиклы                  США   \n",
       "9922                                 семейное, для детей  США, Великобритания   \n",
       "12620                    фантастика, мультфильм, комедии                  США   \n",
       "14435                       мультфильм, фэнтези, комедии                  США   \n",
       "15352                   фэнтези, мультфильм, музыкальные                  США   \n",
       "\n",
       "       for_kids  age_rating studios                            directors  \\\n",
       "158         NaN         6.0     NaN                          Дэн Скэнлон   \n",
       "1554        NaN        12.0     NaN             Ли Анкрич, Эдриан Молина   \n",
       "3951        NaN         6.0     NaN                Рич Мур, Фил Джонстон   \n",
       "5712        NaN         6.0     NaN                            Джош Кули   \n",
       "9698        NaN         6.0     NaN   Байрон Ховард, Рич Мур, Джаред Буш   \n",
       "9921        NaN         6.0     NaN  Рон Клементс, Джон Маскер, Дон Холл   \n",
       "9922        NaN         6.0     NaN                         Стивен Херек   \n",
       "12620       NaN         6.0     NaN      Пит Доктер, Роналдо Дель Кармен   \n",
       "14435       NaN         0.0     NaN                          Питер Хьюит   \n",
       "15352       NaN         6.0     NaN               Крис Бак, Дженнифер Ли   \n",
       "\n",
       "                                                  actors  \\\n",
       "158    Том Холланд, Крис Пратт, Джулия Луис-Дрейфус, ...   \n",
       "1554   Энтони Гонсалес, Гаэль Гарсиа Берналь, Бенджам...   \n",
       "3951   Джон Си Райли, Сара Силверман, Галь Гадот, Тар...   \n",
       "5712   Том Хэнкс, Тим Аллен, Энни Поттс, Тони Хейл, К...   \n",
       "9698   Джиннифер Гудвин, Джейсон Бейтман, Идрис Эльба...   \n",
       "9921   Аулии Кравальо, Дуэйн Джонсон, Рэйчел Хаус, Те...   \n",
       "9922   Гленн Клоуз, Джефф Дэниелс, Джоэли Ричардсон, ...   \n",
       "12620  Эми Полер, Филлис Смит, Ричард Кайнд, Билл Хей...   \n",
       "14435  Брекин Мейер, Дженнифер Лав Хьюитт, Стивен Тоб...   \n",
       "15352  Идина Мензел, Кристен Белл, Джонатан Грофф, Дж...   \n",
       "\n",
       "                                             description  \\\n",
       "158    Когда-то давно в сказочном мире царила магия, ...   \n",
       "1554   Мексиканский юноша Мигель живёт в семье сапожн...   \n",
       "3951   На этот раз Ральф и Ванилопа фон Кекс выйдут з...   \n",
       "5712   Космический рейнджер Баз Лайтер, ковбой Вуди, ...   \n",
       "9698   Добро пожаловать в Зверополис — современный го...   \n",
       "9921   Бесстрашная Моана, дочь вождя маленького племе...   \n",
       "9922   Эта забавная история произошла в Англии на Рож...   \n",
       "12620  11-летняя девочка Райли переезжает с семьёй из...   \n",
       "14435  Хозяин кота Гарфилда, Джон, приносит в дом мил...   \n",
       "15352  Анна, Эльза, Кристоф, его верный олень Свен и ...   \n",
       "\n",
       "                                                keywords  \n",
       "158    эльфы, мир фантазий, эльф, главный герой подро...  \n",
       "1554   Мексика, гитара, музыкант, скелет, музыка, заг...  \n",
       "3951   видеоигра, мультфильм, продолжение, интернет, ...  \n",
       "5712   игрушка, дружба, ковбой, история игрушек 4, , ...  \n",
       "9698   аллегория, лев, бегемот, лиса, слон, овца, бел...  \n",
       "9921   океан, парусник, море, мифология, остров, мюзи...  \n",
       "9922   лондон, англия, мех, модельер, щенок, шуба, по...  \n",
       "12620  мечта, мультфильм, воображаемый друг, начальна...  \n",
       "14435  конкуренция, кошка, талисман, лазанья, домашни...  \n",
       "15352  королева, магия, королевство, плотина, дух, же...  "
      ]
     },
     "execution_count": 61,
     "metadata": {},
     "output_type": "execute_result"
    }
   ],
   "source": [
    "ann_recs_child"
   ]
  },
  {
   "cell_type": "markdown",
   "metadata": {
    "collapsed": false,
    "pycharm": {
     "name": "#%% md\n"
    }
   },
   "source": [
    "ВЫВОД: Получили быстрее работающие предикты, без потери качества предсказаний"
   ]
  },
  {
   "cell_type": "code",
   "execution_count": null,
   "metadata": {
    "collapsed": false,
    "pycharm": {
     "name": "#%%\n"
    }
   },
   "outputs": [],
   "source": []
  }
 ],
 "metadata": {
  "colab": {
   "provenance": []
  },
  "kernelspec": {
   "display_name": "Python 3.8.15 ('recsys')",
   "language": "python",
   "name": "python3"
  },
  "language_info": {
   "codemirror_mode": {
    "name": "ipython",
    "version": 3
   },
   "file_extension": ".py",
   "mimetype": "text/x-python",
   "name": "python",
   "nbconvert_exporter": "python",
   "pygments_lexer": "ipython3",
   "version": "3.8.15"
  },
  "vscode": {
   "interpreter": {
    "hash": "852d72309fcd915d879bb97ef099e5da3b2b556faafd877ee9c0f5dca92e6019"
   }
  }
 },
 "nbformat": 4,
 "nbformat_minor": 0
}
