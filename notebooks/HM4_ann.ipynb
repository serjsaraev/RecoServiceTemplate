{
 "cells": [
  {
   "cell_type": "markdown",
   "source": [],
   "metadata": {
    "collapsed": false,
    "pycharm": {
     "name": "#%% md\n"
    }
   }
  },
  {
   "cell_type": "code",
   "execution_count": null,
   "outputs": [],
   "source": [
    "from random import randint\n",
    "\n",
    "from lightfm import LightFM\n",
    "import pandas as pd\n",
    "import numpy as np\n",
    "from rectools import Columns\n",
    "from rectools.dataset import Dataset\n",
    "from rectools.models import LightFMWrapperModel\n",
    "\n",
    "from service.models.ann import ApproximateNearestNeighbors"
   ],
   "metadata": {
    "collapsed": false,
    "pycharm": {
     "name": "#%%\n"
    }
   }
  },
  {
   "cell_type": "markdown",
   "source": [
    "# LOAD DATA"
   ],
   "metadata": {
    "collapsed": false,
    "pycharm": {
     "name": "#%% md\n"
    }
   }
  },
  {
   "cell_type": "code",
   "execution_count": null,
   "outputs": [],
   "source": [
    "!mkdir ../data\n",
    "!wget https://storage.yandexcloud.net/itmo-recsys-public-data/kion_train.zip -O ../data/data_original.zip\n",
    "!unzip ../data/data_original.zip -d ../data"
   ],
   "metadata": {
    "collapsed": false,
    "pycharm": {
     "name": "#%%\n"
    }
   }
  },
  {
   "cell_type": "code",
   "execution_count": null,
   "outputs": [],
   "source": [
    "interactions = pd.read_csv('../data/kion_train/interactions.csv')\n",
    "users = pd.read_csv('../data/kion_train/users.csv')\n",
    "items = pd.read_csv('../data/kion_train/items.csv')"
   ],
   "metadata": {
    "collapsed": false,
    "pycharm": {
     "name": "#%%\n"
    }
   }
  },
  {
   "cell_type": "markdown",
   "source": [
    "# Preprocess"
   ],
   "metadata": {
    "collapsed": false,
    "pycharm": {
     "name": "#%% md\n"
    }
   }
  },
  {
   "cell_type": "code",
   "execution_count": null,
   "outputs": [],
   "source": [
    "Columns.Datetime = 'last_watch_dt'"
   ],
   "metadata": {
    "collapsed": false,
    "pycharm": {
     "name": "#%%\n"
    }
   }
  },
  {
   "cell_type": "code",
   "execution_count": null,
   "outputs": [],
   "source": [
    "interactions.drop(interactions[interactions[Columns.Datetime].str.len() != 10].index, inplace=True)"
   ],
   "metadata": {
    "collapsed": false,
    "pycharm": {
     "name": "#%%\n"
    }
   }
  },
  {
   "cell_type": "code",
   "execution_count": null,
   "outputs": [],
   "source": [
    "interactions[Columns.Datetime] = pd.to_datetime(interactions[Columns.Datetime], format='%Y-%m-%d')"
   ],
   "metadata": {
    "collapsed": false,
    "pycharm": {
     "name": "#%%\n"
    }
   }
  },
  {
   "cell_type": "code",
   "execution_count": null,
   "outputs": [],
   "source": [
    "max_date = interactions[Columns.Datetime].max()"
   ],
   "metadata": {
    "collapsed": false,
    "pycharm": {
     "name": "#%%\n"
    }
   }
  },
  {
   "cell_type": "code",
   "execution_count": null,
   "outputs": [],
   "source": [
    "interactions[Columns.Weight] = np.where(interactions['watched_pct'] > 10, 3, 1)"
   ],
   "metadata": {
    "collapsed": false,
    "pycharm": {
     "name": "#%%\n"
    }
   }
  },
  {
   "cell_type": "code",
   "execution_count": null,
   "outputs": [],
   "source": [
    "train = interactions[interactions[Columns.Datetime] < max_date - pd.Timedelta(days=7)].copy()\n",
    "test = interactions[interactions[Columns.Datetime] >= max_date - pd.Timedelta(days=7)].copy()\n",
    "\n",
    "print(f\"train: {train.shape}\")\n",
    "print(f\"test: {test.shape}\")"
   ],
   "metadata": {
    "collapsed": false,
    "pycharm": {
     "name": "#%%\n"
    }
   }
  },
  {
   "cell_type": "code",
   "execution_count": null,
   "outputs": [],
   "source": [
    "train.drop(train.query(\"total_dur < 300\").index, inplace=True)"
   ],
   "metadata": {
    "collapsed": false,
    "pycharm": {
     "name": "#%%\n"
    }
   }
  },
  {
   "cell_type": "code",
   "execution_count": null,
   "outputs": [],
   "source": [
    "# отфильтруем холодных пользователей из теста\n",
    "cold_users = set(test[Columns.User]) - set(train[Columns.User])"
   ],
   "metadata": {
    "collapsed": false,
    "pycharm": {
     "name": "#%%\n"
    }
   }
  },
  {
   "cell_type": "code",
   "execution_count": null,
   "outputs": [],
   "source": [
    "test.drop(test[test[Columns.User].isin(cold_users)].index, inplace=True)"
   ],
   "metadata": {
    "collapsed": false,
    "pycharm": {
     "name": "#%%\n"
    }
   }
  },
  {
   "cell_type": "markdown",
   "source": [
    "# Models"
   ],
   "metadata": {
    "collapsed": false,
    "pycharm": {
     "name": "#%% md\n"
    }
   }
  },
  {
   "cell_type": "code",
   "execution_count": null,
   "outputs": [],
   "source": [
    "dataset = Dataset.construct(interactions_df=train)"
   ],
   "metadata": {
    "collapsed": false,
    "pycharm": {
     "name": "#%%\n"
    }
   }
  },
  {
   "cell_type": "code",
   "execution_count": null,
   "outputs": [],
   "source": [
    "TEST_USERS = test[Columns.User].unique()"
   ],
   "metadata": {
    "collapsed": false,
    "pycharm": {
     "name": "#%%\n"
    }
   }
  },
  {
   "cell_type": "markdown",
   "source": [
    "# Добавляем аватаров в обучающую выборку\n",
    "\n",
    "1. Фанат фильмов с Киану Ривзом, смотрит фильмы и рекламу, только с его участием!\n",
    "2. Человек-Патриот, смотрит фильмы только made in Russia. Считает что раньше было лучше!\n",
    "3. Девочка, смотрит только мультфильмы про принцесс и ждёт своего принца на белом коне."
   ],
   "metadata": {
    "collapsed": false,
    "pycharm": {
     "name": "#%% md\n"
    }
   }
  },
  {
   "cell_type": "code",
   "execution_count": null,
   "outputs": [],
   "source": [
    "kianu_fanboy = items[(items.actors.isna() == False) & (items.actors.str.contains('Киану Ривз'))][:10]\n",
    "patriot = items[(items.countries.isna() == False) & (items.countries.str.contains('Россия|СССР'))][:10]\n",
    "princesses = items[(items.age_rating <= 12) & (items.keywords.str.contains('принцесса|королева', case=False))][:30]\n",
    "\n",
    "new_items = [kianu_fanboy, patriot, princesses]"
   ],
   "metadata": {
    "collapsed": false,
    "pycharm": {
     "name": "#%%\n"
    }
   }
  },
  {
   "cell_type": "code",
   "execution_count": null,
   "outputs": [],
   "source": [
    "train_2 = train.copy()\n",
    "max_user_id = train_2.user_id.max()\n",
    "avatar_ids = list()\n",
    "\n",
    "for user_items in new_items:\n",
    "    max_user_id += 1\n",
    "    for item_id in user_items.item_id:\n",
    "        last_watch_dt = f'2022-{str(randint(1,12)).zfill(2)}-{str(randint(1,28)).zfill(2)}'\n",
    "        if max_user_id not in avatar_ids:\n",
    "            avatar_ids.append(max_user_id)\n",
    "        train_2 = train_2.append({\n",
    "            'user_id': max_user_id,\n",
    "            'item_id': item_id,\n",
    "            'last_watch_dt': last_watch_dt,\n",
    "            'watched_pct': randint(70, 100),\n",
    "            'weight': 3\n",
    "        }, ignore_index=True)"
   ],
   "metadata": {
    "collapsed": false,
    "pycharm": {
     "name": "#%%\n"
    }
   }
  },
  {
   "cell_type": "code",
   "execution_count": null,
   "outputs": [],
   "source": [
    "avatar_map = pd.DataFrame({\"user_id\": avatar_ids, \"name\": ['kianu', 'patriot', 'pricesses']})"
   ],
   "metadata": {
    "collapsed": false,
    "pycharm": {
     "name": "#%%\n"
    }
   }
  },
  {
   "cell_type": "code",
   "execution_count": null,
   "outputs": [],
   "source": [
    "avatar_ids"
   ],
   "metadata": {
    "collapsed": false,
    "pycharm": {
     "name": "#%%\n"
    }
   }
  },
  {
   "cell_type": "markdown",
   "source": [
    "# Обучение LightFm"
   ],
   "metadata": {
    "collapsed": false,
    "pycharm": {
     "name": "#%% md\n"
    }
   }
  },
  {
   "cell_type": "code",
   "execution_count": null,
   "outputs": [],
   "source": [
    "dataset_2 = Dataset.construct(interactions_df=train_2)"
   ],
   "metadata": {
    "collapsed": false,
    "pycharm": {
     "name": "#%%\n"
    }
   }
  },
  {
   "cell_type": "code",
   "execution_count": null,
   "outputs": [],
   "source": [
    " model = LightFMWrapperModel(\n",
    "        LightFM(\n",
    "            no_components=12,\n",
    "            loss='warp',\n",
    "            random_state=1234,\n",
    "        ),\n",
    "        epochs=10,\n",
    "        num_threads=4,\n",
    "    )\n",
    "\n",
    "model.fit(dataset_2)"
   ],
   "metadata": {
    "collapsed": false,
    "pycharm": {
     "name": "#%%\n"
    }
   }
  },
  {
   "cell_type": "code",
   "execution_count": null,
   "outputs": [],
   "source": [
    "recoms = model.recommend(\n",
    "    users=avatar_ids,\n",
    "    dataset=dataset_2,\n",
    "    k=10,\n",
    "    filter_viewed=True,\n",
    ")\n",
    "recoms = pd.merge(recoms, items, on='item_id')\n",
    "recoms = pd.merge(recoms, avatar_map, on='user_id')[['name', 'countries', 'title', 'genres', 'age_rating', 'actors', 'keywords']]\n"
   ],
   "metadata": {
    "collapsed": false,
    "pycharm": {
     "name": "#%%\n"
    }
   }
  },
  {
   "cell_type": "markdown",
   "source": [
    "# Approximate Nearest Neighbors"
   ],
   "metadata": {
    "collapsed": false,
    "pycharm": {
     "name": "#%% md\n"
    }
   }
  },
  {
   "cell_type": "code",
   "execution_count": null,
   "outputs": [],
   "source": [
    "ann = ApproximateNearestNeighbors(model=model, dataset=dataset_2)\n",
    "ann.fit(k_reco=10)"
   ],
   "metadata": {
    "collapsed": false,
    "pycharm": {
     "name": "#%%\n"
    }
   }
  },
  {
   "cell_type": "markdown",
   "source": [
    "## Фанат Киану Ривза\n",
    "Модель плохо справилась, в плане предсказания фильмов с данным актёром, однако в целом попадает в в жанры, в которых он снимался"
   ],
   "metadata": {
    "collapsed": false,
    "pycharm": {
     "name": "#%% md\n"
    }
   }
  },
  {
   "cell_type": "code",
   "execution_count": null,
   "outputs": [],
   "source": [
    "lightfm_recs_kianu = recoms[:10]\n",
    "ann_recs_kianu = items[items.item_id.isin(ann.predict(user_id=avatar_idas[0]))]"
   ],
   "metadata": {
    "collapsed": false,
    "pycharm": {
     "name": "#%%\n"
    }
   }
  },
  {
   "cell_type": "code",
   "execution_count": null,
   "outputs": [],
   "source": [
    "assert set(lightfm_recs_kianu.title) == set(ann_recs_kianu.title)"
   ],
   "metadata": {
    "collapsed": false,
    "pycharm": {
     "name": "#%%\n"
    }
   }
  },
  {
   "cell_type": "code",
   "execution_count": null,
   "outputs": [],
   "source": [
    "lightfm_recs_kianu"
   ],
   "metadata": {
    "collapsed": false,
    "pycharm": {
     "name": "#%%\n"
    }
   }
  },
  {
   "cell_type": "markdown",
   "source": [
    "## Человек-патриот\n",
    "Все фильмы, кроме одного из России, следовательно модель справилась достаточно хорошо"
   ],
   "metadata": {
    "collapsed": false,
    "pycharm": {
     "name": "#%% md\n"
    }
   }
  },
  {
   "cell_type": "code",
   "execution_count": null,
   "outputs": [],
   "source": [
    "lightfm_recs_patr = recoms[10:20]\n",
    "ann_recs_patr = items[items.item_id.isin(ann.predict(user_id=avatar_ids[1]))]"
   ],
   "metadata": {
    "collapsed": false,
    "pycharm": {
     "name": "#%%\n"
    }
   }
  },
  {
   "cell_type": "code",
   "execution_count": null,
   "outputs": [],
   "source": [
    "assert set(lightfm_recs_patr.title) == set(ann_recs_patr.title)"
   ],
   "metadata": {
    "collapsed": false,
    "pycharm": {
     "name": "#%%\n"
    }
   }
  },
  {
   "cell_type": "code",
   "execution_count": null,
   "outputs": [],
   "source": [
    "lightfm_recs_patr"
   ],
   "metadata": {
    "collapsed": false,
    "pycharm": {
     "name": "#%%\n"
    }
   }
  },
  {
   "cell_type": "markdown",
   "source": [
    "## Ребенок, смотрящий мультики про принцесс\n",
    "В рекомендациях только мультики для детей, так что в \"ребёнка\" попали, однако из всего списка только 1 мультфильм про принцесс."
   ],
   "metadata": {
    "collapsed": false,
    "pycharm": {
     "name": "#%% md\n"
    }
   }
  },
  {
   "cell_type": "code",
   "execution_count": null,
   "outputs": [],
   "source": [
    "lightfm_recs_child = recoms[20:30]\n",
    "ann_recs_child = items[items.item_id.isin(ann.predict(user_id=avatar_ids[2]))]"
   ],
   "metadata": {
    "collapsed": false,
    "pycharm": {
     "name": "#%%\n"
    }
   }
  },
  {
   "cell_type": "code",
   "execution_count": null,
   "outputs": [],
   "source": [
    "assert set(lightfm_recs_child.title) == set(ann_recs_child.title)"
   ],
   "metadata": {
    "collapsed": false,
    "pycharm": {
     "name": "#%%\n"
    }
   }
  },
  {
   "cell_type": "code",
   "execution_count": null,
   "outputs": [],
   "source": [
    "ann_recs_child"
   ],
   "metadata": {
    "collapsed": false,
    "pycharm": {
     "name": "#%%\n"
    }
   }
  },
  {
   "cell_type": "markdown",
   "source": [
    "ВЫВОД: Получили быстрее работающие предикты, без потери качества предсказаний"
   ],
   "metadata": {
    "collapsed": false,
    "pycharm": {
     "name": "#%% md\n"
    }
   }
  },
  {
   "cell_type": "code",
   "execution_count": null,
   "outputs": [],
   "source": [],
   "metadata": {
    "collapsed": false,
    "pycharm": {
     "name": "#%%\n"
    }
   }
  },
  {
   "cell_type": "code",
   "source": [
    "avatar_map = pd.DataFrame({\"user_id\": avatar_ids, \"name\": ['kianu', 'patriot', 'pricesses']})"
   ],
   "metadata": {
    "id": "wfbRZgMYHNig"
   },
   "execution_count": 19,
   "outputs": []
  },
  {
   "cell_type": "code",
   "source": [
    "avatar_ids"
   ],
   "metadata": {
    "colab": {
     "base_uri": "https://localhost:8080/"
    },
    "id": "fCB0AxDfHsNe",
    "outputId": "c3afccce-8aa4-4444-fd4d-9805b504a212"
   },
   "execution_count": 20,
   "outputs": [
    {
     "output_type": "execute_result",
     "data": {
      "text/plain": [
       "[1097558, 1097559, 1097560]"
      ]
     },
     "metadata": {},
     "execution_count": 20
    }
   ]
  },
  {
   "cell_type": "markdown",
   "source": [
    "# Обучение LightFm"
   ],
   "metadata": {
    "id": "2vTsaBOpI52L"
   }
  },
  {
   "cell_type": "code",
   "source": [
    "dataset_2 = Dataset.construct(interactions_df=train_2)"
   ],
   "metadata": {
    "colab": {
     "base_uri": "https://localhost:8080/"
    },
    "id": "nMUZ6sQ6IyiC",
    "outputId": "b1b80e06-841b-4590-f775-d4ca6558a0c1"
   },
   "execution_count": 21,
   "outputs": [
    {
     "output_type": "stream",
     "name": "stderr",
     "text": [
      "/usr/local/lib/python3.8/dist-packages/rectools/dataset/interactions.py:62: FutureWarning: Inferring datetime64[ns] from data containing strings is deprecated and will be removed in a future version. To retain the old behavior explicitly pass Series(data, dtype=datetime64[ns])\n",
      "  df[Columns.Datetime] = df[Columns.Datetime].astype(\"datetime64[ns]\")\n"
     ]
    }
   ]
  },
  {
   "cell_type": "code",
   "source": [
    " model = LightFMWrapperModel(\n",
    "        LightFM(\n",
    "            no_components=12,\n",
    "            loss='warp',\n",
    "            random_state=1234,\n",
    "        ),\n",
    "        epochs=10,\n",
    "        num_threads=4,\n",
    "    )\n",
    "\n",
    "model.fit(dataset_2)"
   ],
   "metadata": {
    "colab": {
     "base_uri": "https://localhost:8080/"
    },
    "id": "ftHoNIHvH9K7",
    "outputId": "4d63fd9e-5198-41e7-ae42-6c0b2bd3d980"
   },
   "execution_count": 22,
   "outputs": [
    {
     "output_type": "execute_result",
     "data": {
      "text/plain": [
       "<rectools.models.lightfm.LightFMWrapperModel at 0x7ff80c8d5e50>"
      ]
     },
     "metadata": {},
     "execution_count": 22
    }
   ]
  },
  {
   "cell_type": "code",
   "source": [
    "recoms = model.recommend(\n",
    "    users=avatar_ids,\n",
    "    dataset=dataset_2,\n",
    "    k=10,\n",
    "    filter_viewed=True,\n",
    ")\n",
    "recoms = pd.merge(recoms, items, on='item_id')\n",
    "recoms = pd.merge(recoms, avatar_map, on='user_id')[['name', 'countries', 'title', 'genres', 'age_rating', 'actors', 'keywords']]\n"
   ],
   "metadata": {
    "id": "DzOQdF0RJMX4"
   },
   "execution_count": 23,
   "outputs": []
  },
  {
   "cell_type": "markdown",
   "metadata": {
    "pycharm": {
     "name": "#%% md\n"
    },
    "id": "1CBJb9l2_TaB"
   },
   "source": [
    "# Approximate Nearest Neighbors"
   ]
  },
  {
   "cell_type": "code",
   "source": [
    "ann = ApproximateNearestNeighbors(model=model, dataset=dataset_2)\n",
    "ann.fit(k_reco=10)"
   ],
   "metadata": {
    "id": "zo7WO-lQJxuX"
   },
   "execution_count": 24,
   "outputs": []
  },
  {
   "cell_type": "markdown",
   "source": [
    "## Фанат Киану Ривза\n",
    "Модель плохо справилась, в плане предсказания фильмов с данным актёром, однако в целом попадает в в жанры, в которых он снимался"
   ],
   "metadata": {
    "id": "maJJagBnKQwc"
   }
  },
  {
   "cell_type": "code",
   "source": [
    "lightfm_recs_kianu = recoms[:10]\n",
    "ann_recs_kianu = items[items.item_id.isin(ann.predict(user_id=avatar_idas[0]))]"
   ],
   "metadata": {
    "id": "clWH6_jkKRNo"
   },
   "execution_count": 32,
   "outputs": []
  },
  {
   "cell_type": "code",
   "source": [
    "assert set(lightfm_recs_kianu.title) == set(ann_recs_kianu.title)"
   ],
   "metadata": {
    "id": "ZSrO-MaNTJSz"
   },
   "execution_count": 38,
   "outputs": []
  },
  {
   "cell_type": "code",
   "source": [
    "lightfm_recs_kianu"
   ],
   "metadata": {
    "colab": {
     "base_uri": "https://localhost:8080/",
     "height": 754
    },
    "id": "7jOokWGRVBDc",
    "outputId": "841b25e9-5492-4a19-af67-80ea936d7135"
   },
   "execution_count": 45,
   "outputs": [
    {
     "output_type": "execute_result",
     "data": {
      "text/plain": [
       "    name            countries                         title  \\\n",
       "0  kianu  Великобритания, США             Гнев человеческий   \n",
       "1  kianu               Россия                   Хрустальный   \n",
       "2  kianu               Россия               Клиника счастья   \n",
       "3  kianu               Россия  Прабабушка легкого поведения   \n",
       "4  kianu               Россия                      Девятаев   \n",
       "5  kianu               Россия        Секреты семейной жизни   \n",
       "6  kianu                  США                         Веном   \n",
       "7  kianu         США, Франция           Ford против Ferrari   \n",
       "8  kianu               Россия                   День города   \n",
       "9  kianu  Великобритания, США    Kingsman: Секретная служба   \n",
       "\n",
       "                                             genres  age_rating  \\\n",
       "0                                 боевики, триллеры        18.0   \n",
       "1                               триллеры, детективы        18.0   \n",
       "2                                  драмы, мелодрамы        18.0   \n",
       "3                                           комедии        16.0   \n",
       "4                       драмы, военные, приключения        12.0   \n",
       "5                                           комедии        18.0   \n",
       "6  популярное, фантастика, триллеры, боевики, ужасы        16.0   \n",
       "7                                             драмы        16.0   \n",
       "8                                           комедии        16.0   \n",
       "9           боевики, криминал, приключения, комедии        18.0   \n",
       "\n",
       "                                              actors  \\\n",
       "0  Джейсон Стэйтем, Холт МакКэллани, Джеффри Доно...   \n",
       "1  Антон Васильев, Николай Шрайбер, Екатерина Оль...   \n",
       "2  Дарья Мороз, Анатолий Белый, Данил Акутин, Мар...   \n",
       "3  Александр Ревва, Глюкоза, Дмитрий Нагиев, Миха...   \n",
       "4  Павел Прилучный, Павел Чинарёв, Тимофей Трибун...   \n",
       "5  Петр Скворцов, Алена Михайлова, Федор Лавров, ...   \n",
       "6  Том Харди, Вуди Харрельсон, Уэйд Уильямс, Мише...   \n",
       "7  Кристиан Бэйл, Мэтт Дэймон, Катрина Балф, Трэй...   \n",
       "8  Катерина Шпица, Антон Филипенко, Павел Ворожцо...   \n",
       "9  Тэрон Эджертон, Колин Фёрт, Сэмюэл Л. Джексон,...   \n",
       "\n",
       "                                            keywords  \n",
       "0  ограбление, криминальный авторитет, месть, пер...  \n",
       "1  хруст, хрусталь, хруста, хрус, полицейский, пе...  \n",
       "2  Клиника счастья, Клиника, Счастье, Клиника сча...  \n",
       "3     , 2021, россия, прабабушка, легкого, поведения  \n",
       "4  Девятаев, Девятаева, Девят, Девя, Девята, Девя...  \n",
       "5  брызги крови, кровь, жестокое обращение с живо...  \n",
       "6  Сан-Франциско, Калифорния, космический корабль...  \n",
       "7  по мотивам романа или книги, биография, спорт,...  \n",
       "8                         2021, россия, день, города  \n",
       "9  шпион, великобритания, секретная организация, ...  "
      ],
      "text/html": [
       "\n",
       "  <div id=\"df-12abefa5-5ee6-4cd9-bed9-fa02fc610af5\">\n",
       "    <div class=\"colab-df-container\">\n",
       "      <div>\n",
       "<style scoped>\n",
       "    .dataframe tbody tr th:only-of-type {\n",
       "        vertical-align: middle;\n",
       "    }\n",
       "\n",
       "    .dataframe tbody tr th {\n",
       "        vertical-align: top;\n",
       "    }\n",
       "\n",
       "    .dataframe thead th {\n",
       "        text-align: right;\n",
       "    }\n",
       "</style>\n",
       "<table border=\"1\" class=\"dataframe\">\n",
       "  <thead>\n",
       "    <tr style=\"text-align: right;\">\n",
       "      <th></th>\n",
       "      <th>name</th>\n",
       "      <th>countries</th>\n",
       "      <th>title</th>\n",
       "      <th>genres</th>\n",
       "      <th>age_rating</th>\n",
       "      <th>actors</th>\n",
       "      <th>keywords</th>\n",
       "    </tr>\n",
       "  </thead>\n",
       "  <tbody>\n",
       "    <tr>\n",
       "      <th>0</th>\n",
       "      <td>kianu</td>\n",
       "      <td>Великобритания, США</td>\n",
       "      <td>Гнев человеческий</td>\n",
       "      <td>боевики, триллеры</td>\n",
       "      <td>18.0</td>\n",
       "      <td>Джейсон Стэйтем, Холт МакКэллани, Джеффри Доно...</td>\n",
       "      <td>ограбление, криминальный авторитет, месть, пер...</td>\n",
       "    </tr>\n",
       "    <tr>\n",
       "      <th>1</th>\n",
       "      <td>kianu</td>\n",
       "      <td>Россия</td>\n",
       "      <td>Хрустальный</td>\n",
       "      <td>триллеры, детективы</td>\n",
       "      <td>18.0</td>\n",
       "      <td>Антон Васильев, Николай Шрайбер, Екатерина Оль...</td>\n",
       "      <td>хруст, хрусталь, хруста, хрус, полицейский, пе...</td>\n",
       "    </tr>\n",
       "    <tr>\n",
       "      <th>2</th>\n",
       "      <td>kianu</td>\n",
       "      <td>Россия</td>\n",
       "      <td>Клиника счастья</td>\n",
       "      <td>драмы, мелодрамы</td>\n",
       "      <td>18.0</td>\n",
       "      <td>Дарья Мороз, Анатолий Белый, Данил Акутин, Мар...</td>\n",
       "      <td>Клиника счастья, Клиника, Счастье, Клиника сча...</td>\n",
       "    </tr>\n",
       "    <tr>\n",
       "      <th>3</th>\n",
       "      <td>kianu</td>\n",
       "      <td>Россия</td>\n",
       "      <td>Прабабушка легкого поведения</td>\n",
       "      <td>комедии</td>\n",
       "      <td>16.0</td>\n",
       "      <td>Александр Ревва, Глюкоза, Дмитрий Нагиев, Миха...</td>\n",
       "      <td>, 2021, россия, прабабушка, легкого, поведения</td>\n",
       "    </tr>\n",
       "    <tr>\n",
       "      <th>4</th>\n",
       "      <td>kianu</td>\n",
       "      <td>Россия</td>\n",
       "      <td>Девятаев</td>\n",
       "      <td>драмы, военные, приключения</td>\n",
       "      <td>12.0</td>\n",
       "      <td>Павел Прилучный, Павел Чинарёв, Тимофей Трибун...</td>\n",
       "      <td>Девятаев, Девятаева, Девят, Девя, Девята, Девя...</td>\n",
       "    </tr>\n",
       "    <tr>\n",
       "      <th>5</th>\n",
       "      <td>kianu</td>\n",
       "      <td>Россия</td>\n",
       "      <td>Секреты семейной жизни</td>\n",
       "      <td>комедии</td>\n",
       "      <td>18.0</td>\n",
       "      <td>Петр Скворцов, Алена Михайлова, Федор Лавров, ...</td>\n",
       "      <td>брызги крови, кровь, жестокое обращение с живо...</td>\n",
       "    </tr>\n",
       "    <tr>\n",
       "      <th>6</th>\n",
       "      <td>kianu</td>\n",
       "      <td>США</td>\n",
       "      <td>Веном</td>\n",
       "      <td>популярное, фантастика, триллеры, боевики, ужасы</td>\n",
       "      <td>16.0</td>\n",
       "      <td>Том Харди, Вуди Харрельсон, Уэйд Уильямс, Мише...</td>\n",
       "      <td>Сан-Франциско, Калифорния, космический корабль...</td>\n",
       "    </tr>\n",
       "    <tr>\n",
       "      <th>7</th>\n",
       "      <td>kianu</td>\n",
       "      <td>США, Франция</td>\n",
       "      <td>Ford против Ferrari</td>\n",
       "      <td>драмы</td>\n",
       "      <td>16.0</td>\n",
       "      <td>Кристиан Бэйл, Мэтт Дэймон, Катрина Балф, Трэй...</td>\n",
       "      <td>по мотивам романа или книги, биография, спорт,...</td>\n",
       "    </tr>\n",
       "    <tr>\n",
       "      <th>8</th>\n",
       "      <td>kianu</td>\n",
       "      <td>Россия</td>\n",
       "      <td>День города</td>\n",
       "      <td>комедии</td>\n",
       "      <td>16.0</td>\n",
       "      <td>Катерина Шпица, Антон Филипенко, Павел Ворожцо...</td>\n",
       "      <td>2021, россия, день, города</td>\n",
       "    </tr>\n",
       "    <tr>\n",
       "      <th>9</th>\n",
       "      <td>kianu</td>\n",
       "      <td>Великобритания, США</td>\n",
       "      <td>Kingsman: Секретная служба</td>\n",
       "      <td>боевики, криминал, приключения, комедии</td>\n",
       "      <td>18.0</td>\n",
       "      <td>Тэрон Эджертон, Колин Фёрт, Сэмюэл Л. Джексон,...</td>\n",
       "      <td>шпион, великобритания, секретная организация, ...</td>\n",
       "    </tr>\n",
       "  </tbody>\n",
       "</table>\n",
       "</div>\n",
       "      <button class=\"colab-df-convert\" onclick=\"convertToInteractive('df-12abefa5-5ee6-4cd9-bed9-fa02fc610af5')\"\n",
       "              title=\"Convert this dataframe to an interactive table.\"\n",
       "              style=\"display:none;\">\n",
       "        \n",
       "  <svg xmlns=\"http://www.w3.org/2000/svg\" height=\"24px\"viewBox=\"0 0 24 24\"\n",
       "       width=\"24px\">\n",
       "    <path d=\"M0 0h24v24H0V0z\" fill=\"none\"/>\n",
       "    <path d=\"M18.56 5.44l.94 2.06.94-2.06 2.06-.94-2.06-.94-.94-2.06-.94 2.06-2.06.94zm-11 1L8.5 8.5l.94-2.06 2.06-.94-2.06-.94L8.5 2.5l-.94 2.06-2.06.94zm10 10l.94 2.06.94-2.06 2.06-.94-2.06-.94-.94-2.06-.94 2.06-2.06.94z\"/><path d=\"M17.41 7.96l-1.37-1.37c-.4-.4-.92-.59-1.43-.59-.52 0-1.04.2-1.43.59L10.3 9.45l-7.72 7.72c-.78.78-.78 2.05 0 2.83L4 21.41c.39.39.9.59 1.41.59.51 0 1.02-.2 1.41-.59l7.78-7.78 2.81-2.81c.8-.78.8-2.07 0-2.86zM5.41 20L4 18.59l7.72-7.72 1.47 1.35L5.41 20z\"/>\n",
       "  </svg>\n",
       "      </button>\n",
       "      \n",
       "  <style>\n",
       "    .colab-df-container {\n",
       "      display:flex;\n",
       "      flex-wrap:wrap;\n",
       "      gap: 12px;\n",
       "    }\n",
       "\n",
       "    .colab-df-convert {\n",
       "      background-color: #E8F0FE;\n",
       "      border: none;\n",
       "      border-radius: 50%;\n",
       "      cursor: pointer;\n",
       "      display: none;\n",
       "      fill: #1967D2;\n",
       "      height: 32px;\n",
       "      padding: 0 0 0 0;\n",
       "      width: 32px;\n",
       "    }\n",
       "\n",
       "    .colab-df-convert:hover {\n",
       "      background-color: #E2EBFA;\n",
       "      box-shadow: 0px 1px 2px rgba(60, 64, 67, 0.3), 0px 1px 3px 1px rgba(60, 64, 67, 0.15);\n",
       "      fill: #174EA6;\n",
       "    }\n",
       "\n",
       "    [theme=dark] .colab-df-convert {\n",
       "      background-color: #3B4455;\n",
       "      fill: #D2E3FC;\n",
       "    }\n",
       "\n",
       "    [theme=dark] .colab-df-convert:hover {\n",
       "      background-color: #434B5C;\n",
       "      box-shadow: 0px 1px 3px 1px rgba(0, 0, 0, 0.15);\n",
       "      filter: drop-shadow(0px 1px 2px rgba(0, 0, 0, 0.3));\n",
       "      fill: #FFFFFF;\n",
       "    }\n",
       "  </style>\n",
       "\n",
       "      <script>\n",
       "        const buttonEl =\n",
       "          document.querySelector('#df-12abefa5-5ee6-4cd9-bed9-fa02fc610af5 button.colab-df-convert');\n",
       "        buttonEl.style.display =\n",
       "          google.colab.kernel.accessAllowed ? 'block' : 'none';\n",
       "\n",
       "        async function convertToInteractive(key) {\n",
       "          const element = document.querySelector('#df-12abefa5-5ee6-4cd9-bed9-fa02fc610af5');\n",
       "          const dataTable =\n",
       "            await google.colab.kernel.invokeFunction('convertToInteractive',\n",
       "                                                     [key], {});\n",
       "          if (!dataTable) return;\n",
       "\n",
       "          const docLinkHtml = 'Like what you see? Visit the ' +\n",
       "            '<a target=\"_blank\" href=https://colab.research.google.com/notebooks/data_table.ipynb>data table notebook</a>'\n",
       "            + ' to learn more about interactive tables.';\n",
       "          element.innerHTML = '';\n",
       "          dataTable['output_type'] = 'display_data';\n",
       "          await google.colab.output.renderOutput(dataTable, element);\n",
       "          const docLink = document.createElement('div');\n",
       "          docLink.innerHTML = docLinkHtml;\n",
       "          element.appendChild(docLink);\n",
       "        }\n",
       "      </script>\n",
       "    </div>\n",
       "  </div>\n",
       "  "
      ]
     },
     "metadata": {},
     "execution_count": 45
    }
   ]
  },
  {
   "cell_type": "markdown",
   "source": [
    "## Человек-патриот\n",
    "Все фильмы, кроме одного из России, следовательно модель справилась достаточно хорошо"
   ],
   "metadata": {
    "id": "_hPtrS8MUjKA"
   }
  },
  {
   "cell_type": "code",
   "source": [
    "lightfm_recs_patr = recoms[10:20]\n",
    "ann_recs_patr = items[items.item_id.isin(ann.predict(user_id=avatar_ids[1]))]"
   ],
   "metadata": {
    "id": "y0QKphH-Ujpe"
   },
   "execution_count": 43,
   "outputs": []
  },
  {
   "cell_type": "code",
   "source": [
    "assert set(lightfm_recs_patr.title) == set(ann_recs_patr.title)"
   ],
   "metadata": {
    "id": "O3elaK-kUlDb"
   },
   "execution_count": 44,
   "outputs": []
  },
  {
   "cell_type": "code",
   "source": [
    "lightfm_recs_patr"
   ],
   "metadata": {
    "colab": {
     "base_uri": "https://localhost:8080/",
     "height": 754
    },
    "id": "kx_Ej_MNVDdp",
    "outputId": "92ac9da6-5111-4df8-d355-07918b522754"
   },
   "execution_count": 46,
   "outputs": [
    {
     "output_type": "execute_result",
     "data": {
      "text/plain": [
       "       name            countries  \\\n",
       "10  patriot  Великобритания, США   \n",
       "11  patriot               Россия   \n",
       "12  patriot               Россия   \n",
       "13  patriot               Россия   \n",
       "14  patriot               Россия   \n",
       "15  patriot                  США   \n",
       "16  patriot                  США   \n",
       "17  patriot                  США   \n",
       "18  patriot               Россия   \n",
       "19  patriot  США, Великобритания   \n",
       "\n",
       "                                                title  \\\n",
       "10                                  Гнев человеческий   \n",
       "11                                        Хрустальный   \n",
       "12                                    Клиника счастья   \n",
       "13                       Прабабушка легкого поведения   \n",
       "14                                           Девятаев   \n",
       "15  Пираты карибского моря: Проклятие чёрной жемчу...   \n",
       "16            Пираты Карибского Моря: Сундук Мертвеца   \n",
       "17              Пираты карибского моря: На краю света   \n",
       "18                                              Танки   \n",
       "19        Пираты карибского моря: На странных берегах   \n",
       "\n",
       "                                genres  age_rating  \\\n",
       "10                   боевики, триллеры        18.0   \n",
       "11                 триллеры, детективы        18.0   \n",
       "12                    драмы, мелодрамы        18.0   \n",
       "13                             комедии        16.0   \n",
       "14         драмы, военные, приключения        12.0   \n",
       "15       боевики, фэнтези, приключения        12.0   \n",
       "16       боевики, фэнтези, приключения        12.0   \n",
       "17       боевики, фэнтези, приключения        12.0   \n",
       "18  историческое, военные, приключения        12.0   \n",
       "19       боевики, фэнтези, приключения        12.0   \n",
       "\n",
       "                                               actors  \\\n",
       "10  Джейсон Стэйтем, Холт МакКэллани, Джеффри Доно...   \n",
       "11  Антон Васильев, Николай Шрайбер, Екатерина Оль...   \n",
       "12  Дарья Мороз, Анатолий Белый, Данил Акутин, Мар...   \n",
       "13  Александр Ревва, Глюкоза, Дмитрий Нагиев, Миха...   \n",
       "14  Павел Прилучный, Павел Чинарёв, Тимофей Трибун...   \n",
       "15  Джонни Депп, Джеффри Раш, Орландо Блум, Кира Н...   \n",
       "16  Джонни Депп, Орландо Блум, Кира Найтли, Джек Д...   \n",
       "17  Джонни Депп, Джеффри Раш, Орландо Блум, Кира Н...   \n",
       "18  Андрей Мерзликин, Аглая Тарасова, Сергей Стука...   \n",
       "19  Джонни Депп, Пенелопа Крус, Джеффри Раш, Иэн М...   \n",
       "\n",
       "                                             keywords  \n",
       "10  ограбление, криминальный авторитет, месть, пер...  \n",
       "11  хруст, хрусталь, хруста, хрус, полицейский, пе...  \n",
       "12  Клиника счастья, Клиника, Счастье, Клиника сча...  \n",
       "13     , 2021, россия, прабабушка, легкого, поведения  \n",
       "14  Девятаев, Девятаева, Девят, Девя, Девята, Девя...  \n",
       "15  экзотический остров, кузнец, торговая компания...  \n",
       "16  ведьма, гадалка, неволя, экзотический остров, ...  \n",
       "17  экзотический остров, торговая компания Восточн...  \n",
       "18  Вторая мировая война, Иосиф Сталин, танк, 2018...  \n",
       "19  море, капитан, мятеж, меч, премьер-министр, пл...  "
      ],
      "text/html": [
       "\n",
       "  <div id=\"df-1ebe9835-85a3-4fc0-a89e-ee4f4cf6b594\">\n",
       "    <div class=\"colab-df-container\">\n",
       "      <div>\n",
       "<style scoped>\n",
       "    .dataframe tbody tr th:only-of-type {\n",
       "        vertical-align: middle;\n",
       "    }\n",
       "\n",
       "    .dataframe tbody tr th {\n",
       "        vertical-align: top;\n",
       "    }\n",
       "\n",
       "    .dataframe thead th {\n",
       "        text-align: right;\n",
       "    }\n",
       "</style>\n",
       "<table border=\"1\" class=\"dataframe\">\n",
       "  <thead>\n",
       "    <tr style=\"text-align: right;\">\n",
       "      <th></th>\n",
       "      <th>name</th>\n",
       "      <th>countries</th>\n",
       "      <th>title</th>\n",
       "      <th>genres</th>\n",
       "      <th>age_rating</th>\n",
       "      <th>actors</th>\n",
       "      <th>keywords</th>\n",
       "    </tr>\n",
       "  </thead>\n",
       "  <tbody>\n",
       "    <tr>\n",
       "      <th>10</th>\n",
       "      <td>patriot</td>\n",
       "      <td>Великобритания, США</td>\n",
       "      <td>Гнев человеческий</td>\n",
       "      <td>боевики, триллеры</td>\n",
       "      <td>18.0</td>\n",
       "      <td>Джейсон Стэйтем, Холт МакКэллани, Джеффри Доно...</td>\n",
       "      <td>ограбление, криминальный авторитет, месть, пер...</td>\n",
       "    </tr>\n",
       "    <tr>\n",
       "      <th>11</th>\n",
       "      <td>patriot</td>\n",
       "      <td>Россия</td>\n",
       "      <td>Хрустальный</td>\n",
       "      <td>триллеры, детективы</td>\n",
       "      <td>18.0</td>\n",
       "      <td>Антон Васильев, Николай Шрайбер, Екатерина Оль...</td>\n",
       "      <td>хруст, хрусталь, хруста, хрус, полицейский, пе...</td>\n",
       "    </tr>\n",
       "    <tr>\n",
       "      <th>12</th>\n",
       "      <td>patriot</td>\n",
       "      <td>Россия</td>\n",
       "      <td>Клиника счастья</td>\n",
       "      <td>драмы, мелодрамы</td>\n",
       "      <td>18.0</td>\n",
       "      <td>Дарья Мороз, Анатолий Белый, Данил Акутин, Мар...</td>\n",
       "      <td>Клиника счастья, Клиника, Счастье, Клиника сча...</td>\n",
       "    </tr>\n",
       "    <tr>\n",
       "      <th>13</th>\n",
       "      <td>patriot</td>\n",
       "      <td>Россия</td>\n",
       "      <td>Прабабушка легкого поведения</td>\n",
       "      <td>комедии</td>\n",
       "      <td>16.0</td>\n",
       "      <td>Александр Ревва, Глюкоза, Дмитрий Нагиев, Миха...</td>\n",
       "      <td>, 2021, россия, прабабушка, легкого, поведения</td>\n",
       "    </tr>\n",
       "    <tr>\n",
       "      <th>14</th>\n",
       "      <td>patriot</td>\n",
       "      <td>Россия</td>\n",
       "      <td>Девятаев</td>\n",
       "      <td>драмы, военные, приключения</td>\n",
       "      <td>12.0</td>\n",
       "      <td>Павел Прилучный, Павел Чинарёв, Тимофей Трибун...</td>\n",
       "      <td>Девятаев, Девятаева, Девят, Девя, Девята, Девя...</td>\n",
       "    </tr>\n",
       "    <tr>\n",
       "      <th>15</th>\n",
       "      <td>patriot</td>\n",
       "      <td>США</td>\n",
       "      <td>Пираты карибского моря: Проклятие чёрной жемчу...</td>\n",
       "      <td>боевики, фэнтези, приключения</td>\n",
       "      <td>12.0</td>\n",
       "      <td>Джонни Депп, Джеффри Раш, Орландо Блум, Кира Н...</td>\n",
       "      <td>экзотический остров, кузнец, торговая компания...</td>\n",
       "    </tr>\n",
       "    <tr>\n",
       "      <th>16</th>\n",
       "      <td>patriot</td>\n",
       "      <td>США</td>\n",
       "      <td>Пираты Карибского Моря: Сундук Мертвеца</td>\n",
       "      <td>боевики, фэнтези, приключения</td>\n",
       "      <td>12.0</td>\n",
       "      <td>Джонни Депп, Орландо Блум, Кира Найтли, Джек Д...</td>\n",
       "      <td>ведьма, гадалка, неволя, экзотический остров, ...</td>\n",
       "    </tr>\n",
       "    <tr>\n",
       "      <th>17</th>\n",
       "      <td>patriot</td>\n",
       "      <td>США</td>\n",
       "      <td>Пираты карибского моря: На краю света</td>\n",
       "      <td>боевики, фэнтези, приключения</td>\n",
       "      <td>12.0</td>\n",
       "      <td>Джонни Депп, Джеффри Раш, Орландо Блум, Кира Н...</td>\n",
       "      <td>экзотический остров, торговая компания Восточн...</td>\n",
       "    </tr>\n",
       "    <tr>\n",
       "      <th>18</th>\n",
       "      <td>patriot</td>\n",
       "      <td>Россия</td>\n",
       "      <td>Танки</td>\n",
       "      <td>историческое, военные, приключения</td>\n",
       "      <td>12.0</td>\n",
       "      <td>Андрей Мерзликин, Аглая Тарасова, Сергей Стука...</td>\n",
       "      <td>Вторая мировая война, Иосиф Сталин, танк, 2018...</td>\n",
       "    </tr>\n",
       "    <tr>\n",
       "      <th>19</th>\n",
       "      <td>patriot</td>\n",
       "      <td>США, Великобритания</td>\n",
       "      <td>Пираты карибского моря: На странных берегах</td>\n",
       "      <td>боевики, фэнтези, приключения</td>\n",
       "      <td>12.0</td>\n",
       "      <td>Джонни Депп, Пенелопа Крус, Джеффри Раш, Иэн М...</td>\n",
       "      <td>море, капитан, мятеж, меч, премьер-министр, пл...</td>\n",
       "    </tr>\n",
       "  </tbody>\n",
       "</table>\n",
       "</div>\n",
       "      <button class=\"colab-df-convert\" onclick=\"convertToInteractive('df-1ebe9835-85a3-4fc0-a89e-ee4f4cf6b594')\"\n",
       "              title=\"Convert this dataframe to an interactive table.\"\n",
       "              style=\"display:none;\">\n",
       "        \n",
       "  <svg xmlns=\"http://www.w3.org/2000/svg\" height=\"24px\"viewBox=\"0 0 24 24\"\n",
       "       width=\"24px\">\n",
       "    <path d=\"M0 0h24v24H0V0z\" fill=\"none\"/>\n",
       "    <path d=\"M18.56 5.44l.94 2.06.94-2.06 2.06-.94-2.06-.94-.94-2.06-.94 2.06-2.06.94zm-11 1L8.5 8.5l.94-2.06 2.06-.94-2.06-.94L8.5 2.5l-.94 2.06-2.06.94zm10 10l.94 2.06.94-2.06 2.06-.94-2.06-.94-.94-2.06-.94 2.06-2.06.94z\"/><path d=\"M17.41 7.96l-1.37-1.37c-.4-.4-.92-.59-1.43-.59-.52 0-1.04.2-1.43.59L10.3 9.45l-7.72 7.72c-.78.78-.78 2.05 0 2.83L4 21.41c.39.39.9.59 1.41.59.51 0 1.02-.2 1.41-.59l7.78-7.78 2.81-2.81c.8-.78.8-2.07 0-2.86zM5.41 20L4 18.59l7.72-7.72 1.47 1.35L5.41 20z\"/>\n",
       "  </svg>\n",
       "      </button>\n",
       "      \n",
       "  <style>\n",
       "    .colab-df-container {\n",
       "      display:flex;\n",
       "      flex-wrap:wrap;\n",
       "      gap: 12px;\n",
       "    }\n",
       "\n",
       "    .colab-df-convert {\n",
       "      background-color: #E8F0FE;\n",
       "      border: none;\n",
       "      border-radius: 50%;\n",
       "      cursor: pointer;\n",
       "      display: none;\n",
       "      fill: #1967D2;\n",
       "      height: 32px;\n",
       "      padding: 0 0 0 0;\n",
       "      width: 32px;\n",
       "    }\n",
       "\n",
       "    .colab-df-convert:hover {\n",
       "      background-color: #E2EBFA;\n",
       "      box-shadow: 0px 1px 2px rgba(60, 64, 67, 0.3), 0px 1px 3px 1px rgba(60, 64, 67, 0.15);\n",
       "      fill: #174EA6;\n",
       "    }\n",
       "\n",
       "    [theme=dark] .colab-df-convert {\n",
       "      background-color: #3B4455;\n",
       "      fill: #D2E3FC;\n",
       "    }\n",
       "\n",
       "    [theme=dark] .colab-df-convert:hover {\n",
       "      background-color: #434B5C;\n",
       "      box-shadow: 0px 1px 3px 1px rgba(0, 0, 0, 0.15);\n",
       "      filter: drop-shadow(0px 1px 2px rgba(0, 0, 0, 0.3));\n",
       "      fill: #FFFFFF;\n",
       "    }\n",
       "  </style>\n",
       "\n",
       "      <script>\n",
       "        const buttonEl =\n",
       "          document.querySelector('#df-1ebe9835-85a3-4fc0-a89e-ee4f4cf6b594 button.colab-df-convert');\n",
       "        buttonEl.style.display =\n",
       "          google.colab.kernel.accessAllowed ? 'block' : 'none';\n",
       "\n",
       "        async function convertToInteractive(key) {\n",
       "          const element = document.querySelector('#df-1ebe9835-85a3-4fc0-a89e-ee4f4cf6b594');\n",
       "          const dataTable =\n",
       "            await google.colab.kernel.invokeFunction('convertToInteractive',\n",
       "                                                     [key], {});\n",
       "          if (!dataTable) return;\n",
       "\n",
       "          const docLinkHtml = 'Like what you see? Visit the ' +\n",
       "            '<a target=\"_blank\" href=https://colab.research.google.com/notebooks/data_table.ipynb>data table notebook</a>'\n",
       "            + ' to learn more about interactive tables.';\n",
       "          element.innerHTML = '';\n",
       "          dataTable['output_type'] = 'display_data';\n",
       "          await google.colab.output.renderOutput(dataTable, element);\n",
       "          const docLink = document.createElement('div');\n",
       "          docLink.innerHTML = docLinkHtml;\n",
       "          element.appendChild(docLink);\n",
       "        }\n",
       "      </script>\n",
       "    </div>\n",
       "  </div>\n",
       "  "
      ]
     },
     "metadata": {},
     "execution_count": 46
    }
   ]
  },
  {
   "cell_type": "markdown",
   "source": [
    "## Ребенок, смотрящий мультики про принцесс\n",
    "В рекомендациях только мультики для детей, так что в \"ребёнка\" попали, однако из всего списка только 1 мультфильм про принцесс."
   ],
   "metadata": {
    "id": "4BE2INafVKNm"
   }
  },
  {
   "cell_type": "code",
   "source": [
    "lightfm_recs_child = recoms[20:30]\n",
    "ann_recs_child = items[items.item_id.isin(ann.predict(user_id=avatar_ids[2]))]"
   ],
   "metadata": {
    "id": "hhcRL9NVVLLg"
   },
   "execution_count": 48,
   "outputs": []
  },
  {
   "cell_type": "code",
   "source": [
    "assert set(lightfm_recs_child.title) == set(ann_recs_child.title)"
   ],
   "metadata": {
    "id": "vtJwwzVUVQkt"
   },
   "execution_count": 49,
   "outputs": []
  },
  {
   "cell_type": "code",
   "source": [
    "ann_recs_child"
   ],
   "metadata": {
    "colab": {
     "base_uri": "https://localhost:8080/",
     "height": 1000
    },
    "id": "mxW6WN-TVX-H",
    "outputId": "ad36ab4c-ad99-43db-a724-811c695ed6fc"
   },
   "execution_count": 50,
   "outputs": [
    {
     "output_type": "execute_result",
     "data": {
      "text/plain": [
       "       item_id content_type                               title  \\\n",
       "1274      5411         film  Монстры на каникулах 3: Море зовёт   \n",
       "1554     16270         film                          Тайна Коко   \n",
       "9085      1105         film       Рапунцель: Запутанная история   \n",
       "9698     16166         film                          Зверополис   \n",
       "9921     10761         film                               Моана   \n",
       "11653    10323         film                Университет монстров   \n",
       "12034     2956         film                          Король Лев   \n",
       "12035    15266         film                 Корпорация монстров   \n",
       "12620    13243         film                         Головоломка   \n",
       "15352     7582         film                  Холодное сердце II   \n",
       "\n",
       "                                  title_orig  release_year  \\\n",
       "1274   Hotel Transylvania 3: Summer Vacation        2018.0   \n",
       "1554                                    Coco        2017.0   \n",
       "9085                                 Tangled        2010.0   \n",
       "9698                                Zootopia        2016.0   \n",
       "9921                                   Moana        2016.0   \n",
       "11653                   Universitet monstrov        2013.0   \n",
       "12034                          The Lion King        1994.0   \n",
       "12035                    Monsters University        2001.0   \n",
       "12620                             Inside Out        2015.0   \n",
       "15352                              Frozen II        2019.0   \n",
       "\n",
       "                                                  genres countries  for_kids  \\\n",
       "1274           мультфильм, фэнтези, приключения, комедии       США       NaN   \n",
       "1554                    мультфильм, фэнтези, приключения       США       NaN   \n",
       "9085   мультфильм, приключения, мюзиклы, мелодрамы, ф...       США       NaN   \n",
       "9698         приключения, мультфильм, детективы, комедии       США       NaN   \n",
       "9921                        мультфильм, фэнтези, мюзиклы       США       NaN   \n",
       "11653          мультфильм, фэнтези, приключения, комедии       США       NaN   \n",
       "12034            драмы, мультфильм, приключения, мюзиклы       США       NaN   \n",
       "12035          мультфильм, фэнтези, приключения, комедии       США       NaN   \n",
       "12620                    фантастика, мультфильм, комедии       США       NaN   \n",
       "15352                   фэнтези, мультфильм, музыкальные       США       NaN   \n",
       "\n",
       "       age_rating studios                               directors  \\\n",
       "1274          6.0     NaN                    Генндий Тартаковский   \n",
       "1554         12.0     NaN                Ли Анкрич, Эдриан Молина   \n",
       "9085          6.0     NaN             Нэйтан Грено, Байрон Ховард   \n",
       "9698          6.0     NaN      Байрон Ховард, Рич Мур, Джаред Буш   \n",
       "9921          6.0     NaN     Рон Клементс, Джон Маскер, Дон Холл   \n",
       "11653         6.0     NaN                             Дэн Скэнлон   \n",
       "12034         0.0     NaN              Роджер Аллерс, Роб Минкофф   \n",
       "12035         6.0     NaN  Пит Доктер, Дэвид Силверман, Ли Анкрич   \n",
       "12620         6.0     NaN         Пит Доктер, Роналдо Дель Кармен   \n",
       "15352         6.0     NaN                  Крис Бак, Дженнифер Ли   \n",
       "\n",
       "                                                  actors  \\\n",
       "1274   Энди Сэмберг, Селена Гомес, Кевин Джеймс, Стив...   \n",
       "1554   Энтони Гонсалес, Гаэль Гарсиа Берналь, Бенджам...   \n",
       "9085   Мэнди Мур, Закари Ливай, Донна Мерфи, Рон Перл...   \n",
       "9698   Джиннифер Гудвин, Джейсон Бейтман, Идрис Эльба...   \n",
       "9921   Аулии Кравальо, Дуэйн Джонсон, Рэйчел Хаус, Те...   \n",
       "11653  Джон Гудман, Билли Кристал, Стив Бушеми, Хелен...   \n",
       "12034  Мэттью Бродерик, Джереми Айронс, Нэйтан Лейн, ...   \n",
       "12035  Джон Гудман, Билли Кристал, Мэри Гиббс, Стив Б...   \n",
       "12620  Эми Полер, Филлис Смит, Ричард Кайнд, Билл Хей...   \n",
       "15352  Идина Мензел, Кристен Белл, Джонатан Грофф, Дж...   \n",
       "\n",
       "                                             description  \\\n",
       "1274   На этот раз Дракула вместе со своими друзьями ...   \n",
       "1554   Мексиканский юноша Мигель живёт в семье сапожн...   \n",
       "9085   Обаятельный разбойник Флинн путешествует по жи...   \n",
       "9698   Добро пожаловать в Зверополис — современный го...   \n",
       "9921   Бесстрашная Моана, дочь вождя маленького племе...   \n",
       "11653  Майк и Салли — самые опытные пугатели в Монстр...   \n",
       "12034  У величественного Короля-Льва Муфасы рождается...   \n",
       "12035  Склизкий гад в сливном бачке, мохнатый зверь, ...   \n",
       "12620  11-летняя девочка Райли переезжает с семьёй из...   \n",
       "15352  Анна, Эльза, Кристоф, его верный олень Свен и ...   \n",
       "\n",
       "                                                keywords  \n",
       "1274   третья часть, круизное судно, персонаж Дракула...  \n",
       "1554   Мексика, гитара, музыкант, скелет, музыка, заг...  \n",
       "9085   Заложник, магия, лошадь, сказка, мюзикл, блонд...  \n",
       "9698   аллегория, лев, бегемот, лиса, слон, овца, бел...  \n",
       "9921   океан, парусник, море, мифология, остров, мюзи...  \n",
       "11653  соревнование, монстр, тренировочный лагерь, ко...  \n",
       "12034  потеря любимого, лев, мюзикл, кабан, дядя, шам...  \n",
       "12035  чудовище, обман, похищение, младенец, злодей, ...  \n",
       "12620  мечта, мультфильм, воображаемый друг, начальна...  \n",
       "15352  королева, магия, королевство, плотина, дух, же...  "
      ],
      "text/html": [
       "\n",
       "  <div id=\"df-61ccf446-b174-41bd-ac52-9a294951f54b\">\n",
       "    <div class=\"colab-df-container\">\n",
       "      <div>\n",
       "<style scoped>\n",
       "    .dataframe tbody tr th:only-of-type {\n",
       "        vertical-align: middle;\n",
       "    }\n",
       "\n",
       "    .dataframe tbody tr th {\n",
       "        vertical-align: top;\n",
       "    }\n",
       "\n",
       "    .dataframe thead th {\n",
       "        text-align: right;\n",
       "    }\n",
       "</style>\n",
       "<table border=\"1\" class=\"dataframe\">\n",
       "  <thead>\n",
       "    <tr style=\"text-align: right;\">\n",
       "      <th></th>\n",
       "      <th>item_id</th>\n",
       "      <th>content_type</th>\n",
       "      <th>title</th>\n",
       "      <th>title_orig</th>\n",
       "      <th>release_year</th>\n",
       "      <th>genres</th>\n",
       "      <th>countries</th>\n",
       "      <th>for_kids</th>\n",
       "      <th>age_rating</th>\n",
       "      <th>studios</th>\n",
       "      <th>directors</th>\n",
       "      <th>actors</th>\n",
       "      <th>description</th>\n",
       "      <th>keywords</th>\n",
       "    </tr>\n",
       "  </thead>\n",
       "  <tbody>\n",
       "    <tr>\n",
       "      <th>1274</th>\n",
       "      <td>5411</td>\n",
       "      <td>film</td>\n",
       "      <td>Монстры на каникулах 3: Море зовёт</td>\n",
       "      <td>Hotel Transylvania 3: Summer Vacation</td>\n",
       "      <td>2018.0</td>\n",
       "      <td>мультфильм, фэнтези, приключения, комедии</td>\n",
       "      <td>США</td>\n",
       "      <td>NaN</td>\n",
       "      <td>6.0</td>\n",
       "      <td>NaN</td>\n",
       "      <td>Генндий Тартаковский</td>\n",
       "      <td>Энди Сэмберг, Селена Гомес, Кевин Джеймс, Стив...</td>\n",
       "      <td>На этот раз Дракула вместе со своими друзьями ...</td>\n",
       "      <td>третья часть, круизное судно, персонаж Дракула...</td>\n",
       "    </tr>\n",
       "    <tr>\n",
       "      <th>1554</th>\n",
       "      <td>16270</td>\n",
       "      <td>film</td>\n",
       "      <td>Тайна Коко</td>\n",
       "      <td>Coco</td>\n",
       "      <td>2017.0</td>\n",
       "      <td>мультфильм, фэнтези, приключения</td>\n",
       "      <td>США</td>\n",
       "      <td>NaN</td>\n",
       "      <td>12.0</td>\n",
       "      <td>NaN</td>\n",
       "      <td>Ли Анкрич, Эдриан Молина</td>\n",
       "      <td>Энтони Гонсалес, Гаэль Гарсиа Берналь, Бенджам...</td>\n",
       "      <td>Мексиканский юноша Мигель живёт в семье сапожн...</td>\n",
       "      <td>Мексика, гитара, музыкант, скелет, музыка, заг...</td>\n",
       "    </tr>\n",
       "    <tr>\n",
       "      <th>9085</th>\n",
       "      <td>1105</td>\n",
       "      <td>film</td>\n",
       "      <td>Рапунцель: Запутанная история</td>\n",
       "      <td>Tangled</td>\n",
       "      <td>2010.0</td>\n",
       "      <td>мультфильм, приключения, мюзиклы, мелодрамы, ф...</td>\n",
       "      <td>США</td>\n",
       "      <td>NaN</td>\n",
       "      <td>6.0</td>\n",
       "      <td>NaN</td>\n",
       "      <td>Нэйтан Грено, Байрон Ховард</td>\n",
       "      <td>Мэнди Мур, Закари Ливай, Донна Мерфи, Рон Перл...</td>\n",
       "      <td>Обаятельный разбойник Флинн путешествует по жи...</td>\n",
       "      <td>Заложник, магия, лошадь, сказка, мюзикл, блонд...</td>\n",
       "    </tr>\n",
       "    <tr>\n",
       "      <th>9698</th>\n",
       "      <td>16166</td>\n",
       "      <td>film</td>\n",
       "      <td>Зверополис</td>\n",
       "      <td>Zootopia</td>\n",
       "      <td>2016.0</td>\n",
       "      <td>приключения, мультфильм, детективы, комедии</td>\n",
       "      <td>США</td>\n",
       "      <td>NaN</td>\n",
       "      <td>6.0</td>\n",
       "      <td>NaN</td>\n",
       "      <td>Байрон Ховард, Рич Мур, Джаред Буш</td>\n",
       "      <td>Джиннифер Гудвин, Джейсон Бейтман, Идрис Эльба...</td>\n",
       "      <td>Добро пожаловать в Зверополис — современный го...</td>\n",
       "      <td>аллегория, лев, бегемот, лиса, слон, овца, бел...</td>\n",
       "    </tr>\n",
       "    <tr>\n",
       "      <th>9921</th>\n",
       "      <td>10761</td>\n",
       "      <td>film</td>\n",
       "      <td>Моана</td>\n",
       "      <td>Moana</td>\n",
       "      <td>2016.0</td>\n",
       "      <td>мультфильм, фэнтези, мюзиклы</td>\n",
       "      <td>США</td>\n",
       "      <td>NaN</td>\n",
       "      <td>6.0</td>\n",
       "      <td>NaN</td>\n",
       "      <td>Рон Клементс, Джон Маскер, Дон Холл</td>\n",
       "      <td>Аулии Кравальо, Дуэйн Джонсон, Рэйчел Хаус, Те...</td>\n",
       "      <td>Бесстрашная Моана, дочь вождя маленького племе...</td>\n",
       "      <td>океан, парусник, море, мифология, остров, мюзи...</td>\n",
       "    </tr>\n",
       "    <tr>\n",
       "      <th>11653</th>\n",
       "      <td>10323</td>\n",
       "      <td>film</td>\n",
       "      <td>Университет монстров</td>\n",
       "      <td>Universitet monstrov</td>\n",
       "      <td>2013.0</td>\n",
       "      <td>мультфильм, фэнтези, приключения, комедии</td>\n",
       "      <td>США</td>\n",
       "      <td>NaN</td>\n",
       "      <td>6.0</td>\n",
       "      <td>NaN</td>\n",
       "      <td>Дэн Скэнлон</td>\n",
       "      <td>Джон Гудман, Билли Кристал, Стив Бушеми, Хелен...</td>\n",
       "      <td>Майк и Салли — самые опытные пугатели в Монстр...</td>\n",
       "      <td>соревнование, монстр, тренировочный лагерь, ко...</td>\n",
       "    </tr>\n",
       "    <tr>\n",
       "      <th>12034</th>\n",
       "      <td>2956</td>\n",
       "      <td>film</td>\n",
       "      <td>Король Лев</td>\n",
       "      <td>The Lion King</td>\n",
       "      <td>1994.0</td>\n",
       "      <td>драмы, мультфильм, приключения, мюзиклы</td>\n",
       "      <td>США</td>\n",
       "      <td>NaN</td>\n",
       "      <td>0.0</td>\n",
       "      <td>NaN</td>\n",
       "      <td>Роджер Аллерс, Роб Минкофф</td>\n",
       "      <td>Мэттью Бродерик, Джереми Айронс, Нэйтан Лейн, ...</td>\n",
       "      <td>У величественного Короля-Льва Муфасы рождается...</td>\n",
       "      <td>потеря любимого, лев, мюзикл, кабан, дядя, шам...</td>\n",
       "    </tr>\n",
       "    <tr>\n",
       "      <th>12035</th>\n",
       "      <td>15266</td>\n",
       "      <td>film</td>\n",
       "      <td>Корпорация монстров</td>\n",
       "      <td>Monsters University</td>\n",
       "      <td>2001.0</td>\n",
       "      <td>мультфильм, фэнтези, приключения, комедии</td>\n",
       "      <td>США</td>\n",
       "      <td>NaN</td>\n",
       "      <td>6.0</td>\n",
       "      <td>NaN</td>\n",
       "      <td>Пит Доктер, Дэвид Силверман, Ли Анкрич</td>\n",
       "      <td>Джон Гудман, Билли Кристал, Мэри Гиббс, Стив Б...</td>\n",
       "      <td>Склизкий гад в сливном бачке, мохнатый зверь, ...</td>\n",
       "      <td>чудовище, обман, похищение, младенец, злодей, ...</td>\n",
       "    </tr>\n",
       "    <tr>\n",
       "      <th>12620</th>\n",
       "      <td>13243</td>\n",
       "      <td>film</td>\n",
       "      <td>Головоломка</td>\n",
       "      <td>Inside Out</td>\n",
       "      <td>2015.0</td>\n",
       "      <td>фантастика, мультфильм, комедии</td>\n",
       "      <td>США</td>\n",
       "      <td>NaN</td>\n",
       "      <td>6.0</td>\n",
       "      <td>NaN</td>\n",
       "      <td>Пит Доктер, Роналдо Дель Кармен</td>\n",
       "      <td>Эми Полер, Филлис Смит, Ричард Кайнд, Билл Хей...</td>\n",
       "      <td>11-летняя девочка Райли переезжает с семьёй из...</td>\n",
       "      <td>мечта, мультфильм, воображаемый друг, начальна...</td>\n",
       "    </tr>\n",
       "    <tr>\n",
       "      <th>15352</th>\n",
       "      <td>7582</td>\n",
       "      <td>film</td>\n",
       "      <td>Холодное сердце II</td>\n",
       "      <td>Frozen II</td>\n",
       "      <td>2019.0</td>\n",
       "      <td>фэнтези, мультфильм, музыкальные</td>\n",
       "      <td>США</td>\n",
       "      <td>NaN</td>\n",
       "      <td>6.0</td>\n",
       "      <td>NaN</td>\n",
       "      <td>Крис Бак, Дженнифер Ли</td>\n",
       "      <td>Идина Мензел, Кристен Белл, Джонатан Грофф, Дж...</td>\n",
       "      <td>Анна, Эльза, Кристоф, его верный олень Свен и ...</td>\n",
       "      <td>королева, магия, королевство, плотина, дух, же...</td>\n",
       "    </tr>\n",
       "  </tbody>\n",
       "</table>\n",
       "</div>\n",
       "      <button class=\"colab-df-convert\" onclick=\"convertToInteractive('df-61ccf446-b174-41bd-ac52-9a294951f54b')\"\n",
       "              title=\"Convert this dataframe to an interactive table.\"\n",
       "              style=\"display:none;\">\n",
       "        \n",
       "  <svg xmlns=\"http://www.w3.org/2000/svg\" height=\"24px\"viewBox=\"0 0 24 24\"\n",
       "       width=\"24px\">\n",
       "    <path d=\"M0 0h24v24H0V0z\" fill=\"none\"/>\n",
       "    <path d=\"M18.56 5.44l.94 2.06.94-2.06 2.06-.94-2.06-.94-.94-2.06-.94 2.06-2.06.94zm-11 1L8.5 8.5l.94-2.06 2.06-.94-2.06-.94L8.5 2.5l-.94 2.06-2.06.94zm10 10l.94 2.06.94-2.06 2.06-.94-2.06-.94-.94-2.06-.94 2.06-2.06.94z\"/><path d=\"M17.41 7.96l-1.37-1.37c-.4-.4-.92-.59-1.43-.59-.52 0-1.04.2-1.43.59L10.3 9.45l-7.72 7.72c-.78.78-.78 2.05 0 2.83L4 21.41c.39.39.9.59 1.41.59.51 0 1.02-.2 1.41-.59l7.78-7.78 2.81-2.81c.8-.78.8-2.07 0-2.86zM5.41 20L4 18.59l7.72-7.72 1.47 1.35L5.41 20z\"/>\n",
       "  </svg>\n",
       "      </button>\n",
       "      \n",
       "  <style>\n",
       "    .colab-df-container {\n",
       "      display:flex;\n",
       "      flex-wrap:wrap;\n",
       "      gap: 12px;\n",
       "    }\n",
       "\n",
       "    .colab-df-convert {\n",
       "      background-color: #E8F0FE;\n",
       "      border: none;\n",
       "      border-radius: 50%;\n",
       "      cursor: pointer;\n",
       "      display: none;\n",
       "      fill: #1967D2;\n",
       "      height: 32px;\n",
       "      padding: 0 0 0 0;\n",
       "      width: 32px;\n",
       "    }\n",
       "\n",
       "    .colab-df-convert:hover {\n",
       "      background-color: #E2EBFA;\n",
       "      box-shadow: 0px 1px 2px rgba(60, 64, 67, 0.3), 0px 1px 3px 1px rgba(60, 64, 67, 0.15);\n",
       "      fill: #174EA6;\n",
       "    }\n",
       "\n",
       "    [theme=dark] .colab-df-convert {\n",
       "      background-color: #3B4455;\n",
       "      fill: #D2E3FC;\n",
       "    }\n",
       "\n",
       "    [theme=dark] .colab-df-convert:hover {\n",
       "      background-color: #434B5C;\n",
       "      box-shadow: 0px 1px 3px 1px rgba(0, 0, 0, 0.15);\n",
       "      filter: drop-shadow(0px 1px 2px rgba(0, 0, 0, 0.3));\n",
       "      fill: #FFFFFF;\n",
       "    }\n",
       "  </style>\n",
       "\n",
       "      <script>\n",
       "        const buttonEl =\n",
       "          document.querySelector('#df-61ccf446-b174-41bd-ac52-9a294951f54b button.colab-df-convert');\n",
       "        buttonEl.style.display =\n",
       "          google.colab.kernel.accessAllowed ? 'block' : 'none';\n",
       "\n",
       "        async function convertToInteractive(key) {\n",
       "          const element = document.querySelector('#df-61ccf446-b174-41bd-ac52-9a294951f54b');\n",
       "          const dataTable =\n",
       "            await google.colab.kernel.invokeFunction('convertToInteractive',\n",
       "                                                     [key], {});\n",
       "          if (!dataTable) return;\n",
       "\n",
       "          const docLinkHtml = 'Like what you see? Visit the ' +\n",
       "            '<a target=\"_blank\" href=https://colab.research.google.com/notebooks/data_table.ipynb>data table notebook</a>'\n",
       "            + ' to learn more about interactive tables.';\n",
       "          element.innerHTML = '';\n",
       "          dataTable['output_type'] = 'display_data';\n",
       "          await google.colab.output.renderOutput(dataTable, element);\n",
       "          const docLink = document.createElement('div');\n",
       "          docLink.innerHTML = docLinkHtml;\n",
       "          element.appendChild(docLink);\n",
       "        }\n",
       "      </script>\n",
       "    </div>\n",
       "  </div>\n",
       "  "
      ]
     },
     "metadata": {},
     "execution_count": 50
    }
   ]
  },
  {
   "cell_type": "markdown",
   "source": [
    "ВЫВОД: Получили быстрее работающие предикты, без потери качества предсказаний"
   ],
   "metadata": {
    "id": "ww38swJgVcNn"
   }
  },
  {
   "cell_type": "code",
   "source": [],
   "metadata": {
    "id": "scalClAOXdHq"
   },
   "execution_count": null,
   "outputs": []
  }
 ],
 "metadata": {
  "kernelspec": {
   "name": "python3",
   "language": "python",
   "display_name": "Python 3 (ipykernel)"
  },
  "language_info": {
   "codemirror_mode": {
    "name": "ipython",
    "version": 3
   },
   "file_extension": ".py",
   "mimetype": "text/x-python",
   "name": "python",
   "nbconvert_exporter": "python",
   "pygments_lexer": "ipython3",
   "version": "3.7.9"
  },
  "colab": {
   "provenance": []
  }
 },
 "nbformat": 4,
 "nbformat_minor": 0
}