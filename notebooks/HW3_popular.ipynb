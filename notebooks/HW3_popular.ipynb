{
 "cells": [
  {
   "cell_type": "markdown",
   "id": "39ee4410",
   "metadata": {},
   "source": [
    "## Imports"
   ]
  },
  {
   "cell_type": "code",
   "execution_count": 64,
   "id": "e2654168",
   "metadata": {
    "scrolled": true
   },
   "outputs": [],
   "source": [
    "import numpy as np\n",
    "import pandas as pd\n",
    "from rectools.models import PopularModel\n",
    "from rectools.dataset import Dataset\n",
    "from rectools import Columns\n",
    "from rectools.metrics import Precision, Recall, MAP, MeanInvUserFreq, Serendipity, calc_metrics"
   ]
  },
  {
   "cell_type": "markdown",
   "id": "c3b1e604",
   "metadata": {},
   "source": [
    "## Data"
   ]
  },
  {
   "cell_type": "code",
   "execution_count": 2,
   "id": "fdd3133b",
   "metadata": {},
   "outputs": [],
   "source": [
    "interactions = pd.read_csv('../data/kion_train/interactions.csv')\n",
    "users = pd.read_csv('../data/kion_train/users.csv')\n",
    "items = pd.read_csv('../data/kion_train/items.csv')"
   ]
  },
  {
   "cell_type": "code",
   "execution_count": 3,
   "id": "d7f5b2e3",
   "metadata": {},
   "outputs": [],
   "source": [
    "interactions.rename(columns={'last_watch_dt': Columns.Datetime,\n",
    "                            'total_dur': Columns.Weight},\n",
    "                    inplace=True)\n",
    "\n",
    "interactions['datetime'] = pd.to_datetime(interactions['datetime'])"
   ]
  },
  {
   "cell_type": "code",
   "execution_count": 4,
   "id": "afe96c3f",
   "metadata": {},
   "outputs": [
    {
     "data": {
      "text/plain": [
       "Timestamp('2021-08-22 00:00:00')"
      ]
     },
     "execution_count": 4,
     "metadata": {},
     "output_type": "execute_result"
    }
   ],
   "source": [
    "max_date = interactions[Columns.Datetime].max().normalize()\n",
    "max_date"
   ]
  },
  {
   "cell_type": "markdown",
   "id": "c72a6655",
   "metadata": {},
   "source": [
    "## Train"
   ]
  },
  {
   "cell_type": "code",
   "execution_count": 14,
   "id": "3a795c67",
   "metadata": {},
   "outputs": [],
   "source": [
    "dataset = Dataset.construct(\n",
    "    interactions_df=interactions,\n",
    "    user_features_df=None,\n",
    "    item_features_df=None\n",
    ")"
   ]
  },
  {
   "cell_type": "code",
   "execution_count": 25,
   "id": "11a38448",
   "metadata": {},
   "outputs": [],
   "source": [
    "popular_model = PopularModel()\n",
    "popular_model.fit(dataset);"
   ]
  },
  {
   "cell_type": "code",
   "execution_count": 66,
   "id": "e33c8717",
   "metadata": {},
   "outputs": [],
   "source": [
    "pop = popular_model.recommend(\n",
    "    users=test[Columns.User].unique(),\n",
    "    dataset=dataset,\n",
    "    k=100,\n",
    "    filter_viewed=False)"
   ]
  },
  {
   "cell_type": "code",
   "execution_count": 51,
   "id": "88787ecf",
   "metadata": {},
   "outputs": [],
   "source": [
    "popular_model_mean_weights = PopularModel(popularity=\"mean_weight\")\n",
    "popular_model_mean_weights.fit(dataset);"
   ]
  },
  {
   "cell_type": "code",
   "execution_count": 65,
   "id": "7641d0aa",
   "metadata": {},
   "outputs": [],
   "source": [
    "pop_mean_weights = popular_model_mean_weights.recommend(\n",
    " users=test[Columns.User].unique(),\n",
    "    dataset=dataset,\n",
    "    k=100,\n",
    "    filter_viewed=False)"
   ]
  },
  {
   "cell_type": "code",
   "execution_count": 53,
   "id": "919bca24",
   "metadata": {},
   "outputs": [
    {
     "data": {
      "text/html": [
       "<div>\n",
       "<style scoped>\n",
       "    .dataframe tbody tr th:only-of-type {\n",
       "        vertical-align: middle;\n",
       "    }\n",
       "\n",
       "    .dataframe tbody tr th {\n",
       "        vertical-align: top;\n",
       "    }\n",
       "\n",
       "    .dataframe thead th {\n",
       "        text-align: right;\n",
       "    }\n",
       "</style>\n",
       "<table border=\"1\" class=\"dataframe\">\n",
       "  <thead>\n",
       "    <tr style=\"text-align: right;\">\n",
       "      <th></th>\n",
       "      <th>user_id</th>\n",
       "      <th>item_id</th>\n",
       "      <th>score</th>\n",
       "      <th>rank</th>\n",
       "      <th>title</th>\n",
       "    </tr>\n",
       "  </thead>\n",
       "  <tbody>\n",
       "    <tr>\n",
       "      <th>0</th>\n",
       "      <td>176549</td>\n",
       "      <td>10440</td>\n",
       "      <td>202457.0</td>\n",
       "      <td>1</td>\n",
       "      <td>Хрустальный</td>\n",
       "    </tr>\n",
       "    <tr>\n",
       "      <th>1</th>\n",
       "      <td>176549</td>\n",
       "      <td>15297</td>\n",
       "      <td>193123.0</td>\n",
       "      <td>2</td>\n",
       "      <td>Клиника счастья</td>\n",
       "    </tr>\n",
       "    <tr>\n",
       "      <th>2</th>\n",
       "      <td>176549</td>\n",
       "      <td>9728</td>\n",
       "      <td>132865.0</td>\n",
       "      <td>3</td>\n",
       "      <td>Гнев человеческий</td>\n",
       "    </tr>\n",
       "    <tr>\n",
       "      <th>3</th>\n",
       "      <td>176549</td>\n",
       "      <td>13865</td>\n",
       "      <td>122119.0</td>\n",
       "      <td>4</td>\n",
       "      <td>Девятаев</td>\n",
       "    </tr>\n",
       "    <tr>\n",
       "      <th>4</th>\n",
       "      <td>176549</td>\n",
       "      <td>4151</td>\n",
       "      <td>91167.0</td>\n",
       "      <td>5</td>\n",
       "      <td>Секреты семейной жизни</td>\n",
       "    </tr>\n",
       "    <tr>\n",
       "      <th>5</th>\n",
       "      <td>176549</td>\n",
       "      <td>3734</td>\n",
       "      <td>74803.0</td>\n",
       "      <td>6</td>\n",
       "      <td>Прабабушка легкого поведения</td>\n",
       "    </tr>\n",
       "    <tr>\n",
       "      <th>6</th>\n",
       "      <td>176549</td>\n",
       "      <td>2657</td>\n",
       "      <td>68581.0</td>\n",
       "      <td>7</td>\n",
       "      <td>Подслушано</td>\n",
       "    </tr>\n",
       "    <tr>\n",
       "      <th>7</th>\n",
       "      <td>176549</td>\n",
       "      <td>4880</td>\n",
       "      <td>55043.0</td>\n",
       "      <td>8</td>\n",
       "      <td>Афера</td>\n",
       "    </tr>\n",
       "    <tr>\n",
       "      <th>8</th>\n",
       "      <td>176549</td>\n",
       "      <td>142</td>\n",
       "      <td>45367.0</td>\n",
       "      <td>9</td>\n",
       "      <td>Маша</td>\n",
       "    </tr>\n",
       "    <tr>\n",
       "      <th>9</th>\n",
       "      <td>176549</td>\n",
       "      <td>6809</td>\n",
       "      <td>40372.0</td>\n",
       "      <td>10</td>\n",
       "      <td>Дуров</td>\n",
       "    </tr>\n",
       "  </tbody>\n",
       "</table>\n",
       "</div>"
      ],
      "text/plain": [
       "   user_id  item_id     score  rank                         title\n",
       "0   176549    10440  202457.0     1                   Хрустальный\n",
       "1   176549    15297  193123.0     2               Клиника счастья\n",
       "2   176549     9728  132865.0     3             Гнев человеческий\n",
       "3   176549    13865  122119.0     4                      Девятаев\n",
       "4   176549     4151   91167.0     5        Секреты семейной жизни\n",
       "5   176549     3734   74803.0     6  Прабабушка легкого поведения\n",
       "6   176549     2657   68581.0     7                    Подслушано\n",
       "7   176549     4880   55043.0     8                         Афера\n",
       "8   176549      142   45367.0     9                          Маша\n",
       "9   176549     6809   40372.0    10                         Дуров"
      ]
     },
     "execution_count": 53,
     "metadata": {},
     "output_type": "execute_result"
    }
   ],
   "source": [
    "pop.head(10)"
   ]
  },
  {
   "cell_type": "code",
   "execution_count": 54,
   "id": "9f8d02db",
   "metadata": {},
   "outputs": [
    {
     "data": {
      "text/html": [
       "<div>\n",
       "<style scoped>\n",
       "    .dataframe tbody tr th:only-of-type {\n",
       "        vertical-align: middle;\n",
       "    }\n",
       "\n",
       "    .dataframe tbody tr th {\n",
       "        vertical-align: top;\n",
       "    }\n",
       "\n",
       "    .dataframe thead th {\n",
       "        text-align: right;\n",
       "    }\n",
       "</style>\n",
       "<table border=\"1\" class=\"dataframe\">\n",
       "  <thead>\n",
       "    <tr style=\"text-align: right;\">\n",
       "      <th></th>\n",
       "      <th>user_id</th>\n",
       "      <th>item_id</th>\n",
       "      <th>score</th>\n",
       "      <th>rank</th>\n",
       "      <th>title</th>\n",
       "    </tr>\n",
       "  </thead>\n",
       "  <tbody>\n",
       "    <tr>\n",
       "      <th>0</th>\n",
       "      <td>176549</td>\n",
       "      <td>1714</td>\n",
       "      <td>635143.666667</td>\n",
       "      <td>1</td>\n",
       "      <td>Люби меня таким</td>\n",
       "    </tr>\n",
       "    <tr>\n",
       "      <th>1</th>\n",
       "      <td>176549</td>\n",
       "      <td>3642</td>\n",
       "      <td>442423.000000</td>\n",
       "      <td>2</td>\n",
       "      <td>Обручальное кольцо</td>\n",
       "    </tr>\n",
       "    <tr>\n",
       "      <th>2</th>\n",
       "      <td>176549</td>\n",
       "      <td>856</td>\n",
       "      <td>400153.000000</td>\n",
       "      <td>3</td>\n",
       "      <td>Приют комедиантов</td>\n",
       "    </tr>\n",
       "    <tr>\n",
       "      <th>3</th>\n",
       "      <td>176549</td>\n",
       "      <td>3480</td>\n",
       "      <td>373410.666667</td>\n",
       "      <td>4</td>\n",
       "      <td>Жизнь Мехэк</td>\n",
       "    </tr>\n",
       "    <tr>\n",
       "      <th>4</th>\n",
       "      <td>176549</td>\n",
       "      <td>16216</td>\n",
       "      <td>340005.500000</td>\n",
       "      <td>5</td>\n",
       "      <td>Анна-детективъ</td>\n",
       "    </tr>\n",
       "    <tr>\n",
       "      <th>5</th>\n",
       "      <td>176549</td>\n",
       "      <td>13395</td>\n",
       "      <td>339193.000000</td>\n",
       "      <td>6</td>\n",
       "      <td>Крамола</td>\n",
       "    </tr>\n",
       "    <tr>\n",
       "      <th>6</th>\n",
       "      <td>176549</td>\n",
       "      <td>11566</td>\n",
       "      <td>328638.566667</td>\n",
       "      <td>7</td>\n",
       "      <td>Татьянин день</td>\n",
       "    </tr>\n",
       "    <tr>\n",
       "      <th>7</th>\n",
       "      <td>176549</td>\n",
       "      <td>1914</td>\n",
       "      <td>294688.000000</td>\n",
       "      <td>8</td>\n",
       "      <td>Неравный брак</td>\n",
       "    </tr>\n",
       "    <tr>\n",
       "      <th>8</th>\n",
       "      <td>176549</td>\n",
       "      <td>2788</td>\n",
       "      <td>290355.500000</td>\n",
       "      <td>9</td>\n",
       "      <td>Ганга</td>\n",
       "    </tr>\n",
       "    <tr>\n",
       "      <th>9</th>\n",
       "      <td>176549</td>\n",
       "      <td>3750</td>\n",
       "      <td>285721.000000</td>\n",
       "      <td>10</td>\n",
       "      <td>Юлия Высоцкая</td>\n",
       "    </tr>\n",
       "  </tbody>\n",
       "</table>\n",
       "</div>"
      ],
      "text/plain": [
       "   user_id  item_id          score  rank               title\n",
       "0   176549     1714  635143.666667     1     Люби меня таким\n",
       "1   176549     3642  442423.000000     2  Обручальное кольцо\n",
       "2   176549      856  400153.000000     3   Приют комедиантов\n",
       "3   176549     3480  373410.666667     4         Жизнь Мехэк\n",
       "4   176549    16216  340005.500000     5      Анна-детективъ\n",
       "5   176549    13395  339193.000000     6             Крамола\n",
       "6   176549    11566  328638.566667     7       Татьянин день\n",
       "7   176549     1914  294688.000000     8       Неравный брак\n",
       "8   176549     2788  290355.500000     9               Ганга\n",
       "9   176549     3750  285721.000000    10       Юлия Высоцкая"
      ]
     },
     "execution_count": 54,
     "metadata": {},
     "output_type": "execute_result"
    }
   ],
   "source": [
    "pop_mean_weights.head(10)"
   ]
  },
  {
   "cell_type": "markdown",
   "id": "07778cd3",
   "metadata": {},
   "source": [
    "## Metrics"
   ]
  },
  {
   "cell_type": "code",
   "execution_count": 67,
   "id": "67be2561",
   "metadata": {},
   "outputs": [],
   "source": [
    "metrics = {\n",
    "    \"prec@5\": Precision(k=5),\n",
    "    \"recall@5\": Recall(k=5),\n",
    "    \"MAP@5\": MAP(k=5),\n",
    "    \"prec@10\": Precision(k=10),\n",
    "    \"recall@10\": Recall(k=10),\n",
    "    \"MAP@20\": MAP(k=20),\n",
    "    \"prec@20\": Precision(k=20),\n",
    "    \"recall@20\": Recall(k=20),\n",
    "    \"MAP@100\": MAP(k=100),\n",
    "    \"prec@100\": Precision(k=100),\n",
    "    \"recall@100\": Recall(k=100),\n",
    "    \"MAP@100\": MAP(k=100),\n",
    "    \"novelty\": MeanInvUserFreq(k=10),\n",
    "    \"serendipity\": Serendipity(k=10),\n",
    "}"
   ]
  },
  {
   "cell_type": "code",
   "execution_count": null,
   "id": "0c781d92",
   "metadata": {},
   "outputs": [],
   "source": [
    "catalog = train[Columns.Item].unique()\n",
    "metric__pop = calc_metrics(metrics, pop, test, train, catalog)\n",
    "metric_pop_mean_weights = calc_metrics(metrics, pop_mean_weights, test, train, catalog)"
   ]
  },
  {
   "cell_type": "code",
   "execution_count": null,
   "id": "f390b23f",
   "metadata": {},
   "outputs": [],
   "source": [
    "metric_values_pop"
   ]
  },
  {
   "cell_type": "code",
   "execution_count": null,
   "id": "780b7d42",
   "metadata": {},
   "outputs": [],
   "source": [
    "metric_values_pop_mean_weight"
   ]
  },
  {
   "cell_type": "code",
   "execution_count": null,
   "id": "2d3b92cf",
   "metadata": {},
   "outputs": [],
   "source": []
  }
 ],
 "metadata": {
  "kernelspec": {
   "display_name": "Python 3 (ipykernel)",
   "language": "python",
   "name": "python3"
  },
  "language_info": {
   "codemirror_mode": {
    "name": "ipython",
    "version": 3
   },
   "file_extension": ".py",
   "mimetype": "text/x-python",
   "name": "python",
   "nbconvert_exporter": "python",
   "pygments_lexer": "ipython3",
   "version": "3.8.10"
  }
 },
 "nbformat": 4,
 "nbformat_minor": 5
}
